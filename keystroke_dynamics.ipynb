{
 "cells": [
  {
   "cell_type": "markdown",
   "metadata": {},
   "source": [
    "# Keystroke Dynamics"
   ]
  },
  {
   "cell_type": "markdown",
   "metadata": {},
   "source": [
    "The datasets:\n",
    "\n",
    "*   http://www3.cs.stonybrook.edu/~rbanerjee/project-pages/keystrokes/keystrokes.html\n"
   ]
  },
  {
   "cell_type": "code",
   "execution_count": 193,
   "metadata": {},
   "outputs": [],
   "source": [
    "import pandas as pd\n",
    "import numpy as np\n",
    "import altair as alt\n",
    "import matplotlib.pyplot as plt\n",
    "import os\n",
    "import tabulate\n",
    "import seaborn as sns\n",
    "sns.set()"
   ]
  },
  {
   "cell_type": "markdown",
   "metadata": {},
   "source": [
    "# 1. Data Preparation"
   ]
  },
  {
   "cell_type": "code",
   "execution_count": 174,
   "metadata": {},
   "outputs": [
    {
     "data": {
      "text/plain": [
       "DataTransformerRegistry.enable('custom')"
      ]
     },
     "execution_count": 174,
     "metadata": {},
     "output_type": "execute_result"
    }
   ],
   "source": [
    "# Save temp altair json files in separate folder\n",
    "os.makedirs('tmp/altdata', exist_ok=True)\n",
    "\n",
    "def custom(data):\n",
    "    return alt.pipe(data, alt.to_json(filename='tmp/altdata/{prefix}-{hash}.{extension}') )\n",
    "\n",
    "alt.data_transformers.register('custom', custom)\n",
    "alt.data_transformers.enable('custom')"
   ]
  },
  {
   "cell_type": "markdown",
   "metadata": {},
   "source": [
    "### ! Before executing this code, make sure you've downloaded the datasets by the link and unpacked csv files to `data` directory"
   ]
  },
  {
   "cell_type": "code",
   "execution_count": 175,
   "metadata": {},
   "outputs": [],
   "source": [
    "files = ('data/ReviewAMT_500_t.csv', 'data/GayMarriage_400.csv', 'data/GunControl_400.csv')\n",
    "df_atm = pd.read_csv(files[0], sep='\\t')\n",
    "df_gay = pd.read_csv(files[1], sep='\\t')\n",
    "df_gun = pd.read_csv(files[2], sep='\\t')"
   ]
  },
  {
   "cell_type": "code",
   "execution_count": 176,
   "metadata": {},
   "outputs": [
    {
     "data": {
      "text/html": [
       "<div>\n",
       "<style scoped>\n",
       "    .dataframe tbody tr th:only-of-type {\n",
       "        vertical-align: middle;\n",
       "    }\n",
       "\n",
       "    .dataframe tbody tr th {\n",
       "        vertical-align: top;\n",
       "    }\n",
       "\n",
       "    .dataframe thead th {\n",
       "        text-align: right;\n",
       "    }\n",
       "</style>\n",
       "<table border=\"1\" class=\"dataframe\">\n",
       "  <thead>\n",
       "    <tr style=\"text-align: right;\">\n",
       "      <th></th>\n",
       "      <th>UserName</th>\n",
       "      <th>AccessKey</th>\n",
       "      <th>ReviewDate</th>\n",
       "      <th>Topic</th>\n",
       "      <th>Task</th>\n",
       "      <th>Group</th>\n",
       "      <th>Flow</th>\n",
       "      <th>Restaurant</th>\n",
       "      <th>Addr</th>\n",
       "      <th>Site</th>\n",
       "      <th>ReviewText</th>\n",
       "      <th>ReviewMeta</th>\n",
       "    </tr>\n",
       "  </thead>\n",
       "  <tbody>\n",
       "    <tr>\n",
       "      <th>0</th>\n",
       "      <td>A002160837SWJFPIAI7L7</td>\n",
       "      <td>392aa3e372054948a5cabd637b2e239b</td>\n",
       "      <td>Sun Jun 02 20:55:38 UTC 2013</td>\n",
       "      <td>AMT</td>\n",
       "      <td>copy_1</td>\n",
       "      <td>AMT</td>\n",
       "      <td>TF</td>\n",
       "      <td>NaN</td>\n",
       "      <td>NaN</td>\n",
       "      <td>NaN</td>\n",
       "      <td>Famous Daves is a good place to go for some go...</td>\n",
       "      <td>0 MouseUp 0 0;535 KeyDown 16;776 KeyDown 70;79...</td>\n",
       "    </tr>\n",
       "    <tr>\n",
       "      <th>1</th>\n",
       "      <td>A002160837SWJFPIAI7L7</td>\n",
       "      <td>392aa3e372054948a5cabd637b2e239b</td>\n",
       "      <td>Sun Jun 02 20:58:33 UTC 2013</td>\n",
       "      <td>AMT</td>\n",
       "      <td>copy_2</td>\n",
       "      <td>AMT</td>\n",
       "      <td>TF</td>\n",
       "      <td>NaN</td>\n",
       "      <td>NaN</td>\n",
       "      <td>NaN</td>\n",
       "      <td>The Original Shrimp Place is a good place to c...</td>\n",
       "      <td>0 MouseUp 0 0;491 KeyDown 16;778 KeyDown 84;82...</td>\n",
       "    </tr>\n",
       "    <tr>\n",
       "      <th>2</th>\n",
       "      <td>A002160837SWJFPIAI7L7</td>\n",
       "      <td>392aa3e372054948a5cabd637b2e239b</td>\n",
       "      <td>Sun Jun 02 20:53:01 UTC 2013</td>\n",
       "      <td>AMT</td>\n",
       "      <td>fake</td>\n",
       "      <td>AMT</td>\n",
       "      <td>TF</td>\n",
       "      <td>The Original Shrimp Place</td>\n",
       "      <td>NaN</td>\n",
       "      <td>NaN</td>\n",
       "      <td>The Original Shrimp Place is a good place to c...</td>\n",
       "      <td>0 MouseUp 0 0;849 KeyDown 16;966 KeyDown 84;10...</td>\n",
       "    </tr>\n",
       "  </tbody>\n",
       "</table>\n",
       "</div>"
      ],
      "text/plain": [
       "                UserName                         AccessKey  \\\n",
       "0  A002160837SWJFPIAI7L7  392aa3e372054948a5cabd637b2e239b   \n",
       "1  A002160837SWJFPIAI7L7  392aa3e372054948a5cabd637b2e239b   \n",
       "2  A002160837SWJFPIAI7L7  392aa3e372054948a5cabd637b2e239b   \n",
       "\n",
       "                     ReviewDate Topic    Task Group Flow  \\\n",
       "0  Sun Jun 02 20:55:38 UTC 2013   AMT  copy_1   AMT   TF   \n",
       "1  Sun Jun 02 20:58:33 UTC 2013   AMT  copy_2   AMT   TF   \n",
       "2  Sun Jun 02 20:53:01 UTC 2013   AMT    fake   AMT   TF   \n",
       "\n",
       "                  Restaurant Addr Site  \\\n",
       "0                        NaN  NaN  NaN   \n",
       "1                        NaN  NaN  NaN   \n",
       "2  The Original Shrimp Place  NaN  NaN   \n",
       "\n",
       "                                          ReviewText  \\\n",
       "0  Famous Daves is a good place to go for some go...   \n",
       "1  The Original Shrimp Place is a good place to c...   \n",
       "2  The Original Shrimp Place is a good place to c...   \n",
       "\n",
       "                                          ReviewMeta  \n",
       "0  0 MouseUp 0 0;535 KeyDown 16;776 KeyDown 70;79...  \n",
       "1  0 MouseUp 0 0;491 KeyDown 16;778 KeyDown 84;82...  \n",
       "2  0 MouseUp 0 0;849 KeyDown 16;966 KeyDown 84;10...  "
      ]
     },
     "execution_count": 176,
     "metadata": {},
     "output_type": "execute_result"
    }
   ],
   "source": [
    "df_atm.rename(columns = {'ReviewTopic': 'Topic'}, inplace=True)\n",
    "df_atm['Task'] = df_atm['Task'].map(\n",
    "    {\n",
    "        \"Fake Review\": 'fake', \n",
    "        \"True Review\": 'true',\n",
    "        'Copy_1': 'copy_1',\n",
    "        'Copy_2': 'copy_2'\n",
    "    }) \n",
    "df_atm.head(3)"
   ]
  },
  {
   "cell_type": "code",
   "execution_count": 177,
   "metadata": {},
   "outputs": [
    {
     "data": {
      "text/html": [
       "<div>\n",
       "<style scoped>\n",
       "    .dataframe tbody tr th:only-of-type {\n",
       "        vertical-align: middle;\n",
       "    }\n",
       "\n",
       "    .dataframe tbody tr th {\n",
       "        vertical-align: top;\n",
       "    }\n",
       "\n",
       "    .dataframe thead th {\n",
       "        text-align: right;\n",
       "    }\n",
       "</style>\n",
       "<table border=\"1\" class=\"dataframe\">\n",
       "  <thead>\n",
       "    <tr style=\"text-align: right;\">\n",
       "      <th></th>\n",
       "      <th>UserName</th>\n",
       "      <th>AccessKey</th>\n",
       "      <th>Topic</th>\n",
       "      <th>Opinion</th>\n",
       "      <th>ReviewDate</th>\n",
       "      <th>ReviewType</th>\n",
       "      <th>Task</th>\n",
       "      <th>Group</th>\n",
       "      <th>Flow</th>\n",
       "      <th>ReviewText</th>\n",
       "      <th>ReviewMeta</th>\n",
       "    </tr>\n",
       "  </thead>\n",
       "  <tbody>\n",
       "    <tr>\n",
       "      <th>0</th>\n",
       "      <td>A12WI1MRO70881</td>\n",
       "      <td>81a90739642349eb8f130f4e8f5e8deb</td>\n",
       "      <td>Gay Marriage</td>\n",
       "      <td>support</td>\n",
       "      <td>Thu May 30 04:08:13 UTC 2013</td>\n",
       "      <td>AMT</td>\n",
       "      <td>copy_1</td>\n",
       "      <td>AMT</td>\n",
       "      <td>FT</td>\n",
       "      <td>Gay Marriage is an oxymoron even as a concept....</td>\n",
       "      <td>0 MouseUp 0 0;878 MouseUp 0 0;1691 MouseUp 0 0...</td>\n",
       "    </tr>\n",
       "    <tr>\n",
       "      <th>1</th>\n",
       "      <td>A12WI1MRO70881</td>\n",
       "      <td>81a90739642349eb8f130f4e8f5e8deb</td>\n",
       "      <td>Gay Marriage</td>\n",
       "      <td>support</td>\n",
       "      <td>Thu May 30 04:14:38 UTC 2013</td>\n",
       "      <td>AMT</td>\n",
       "      <td>copy_2</td>\n",
       "      <td>AMT</td>\n",
       "      <td>FT</td>\n",
       "      <td>Marriage is about love and commitment.  Its a ...</td>\n",
       "      <td>0 MouseUp 0 0;762 KeyDown 16;1160 KeyDown 77;1...</td>\n",
       "    </tr>\n",
       "    <tr>\n",
       "      <th>2</th>\n",
       "      <td>A12WI1MRO70881</td>\n",
       "      <td>81a90739642349eb8f130f4e8f5e8deb</td>\n",
       "      <td>Gay Marriage</td>\n",
       "      <td>support</td>\n",
       "      <td>Thu May 30 03:44:09 UTC 2013</td>\n",
       "      <td>AMT</td>\n",
       "      <td>fake</td>\n",
       "      <td>AMT</td>\n",
       "      <td>FT</td>\n",
       "      <td>Gay Marriage is an oxymoron even as a concept....</td>\n",
       "      <td>0 MouseUp 0 0;860 MouseUp 0 0;1722 MouseUp 0 0...</td>\n",
       "    </tr>\n",
       "  </tbody>\n",
       "</table>\n",
       "</div>"
      ],
      "text/plain": [
       "         UserName                         AccessKey         Topic  Opinion  \\\n",
       "0  A12WI1MRO70881  81a90739642349eb8f130f4e8f5e8deb  Gay Marriage  support   \n",
       "1  A12WI1MRO70881  81a90739642349eb8f130f4e8f5e8deb  Gay Marriage  support   \n",
       "2  A12WI1MRO70881  81a90739642349eb8f130f4e8f5e8deb  Gay Marriage  support   \n",
       "\n",
       "                     ReviewDate ReviewType    Task Group Flow  \\\n",
       "0  Thu May 30 04:08:13 UTC 2013        AMT  copy_1   AMT   FT   \n",
       "1  Thu May 30 04:14:38 UTC 2013        AMT  copy_2   AMT   FT   \n",
       "2  Thu May 30 03:44:09 UTC 2013        AMT    fake   AMT   FT   \n",
       "\n",
       "                                          ReviewText  \\\n",
       "0  Gay Marriage is an oxymoron even as a concept....   \n",
       "1  Marriage is about love and commitment.  Its a ...   \n",
       "2  Gay Marriage is an oxymoron even as a concept....   \n",
       "\n",
       "                                          ReviewMeta  \n",
       "0  0 MouseUp 0 0;878 MouseUp 0 0;1691 MouseUp 0 0...  \n",
       "1  0 MouseUp 0 0;762 KeyDown 16;1160 KeyDown 77;1...  \n",
       "2  0 MouseUp 0 0;860 MouseUp 0 0;1722 MouseUp 0 0...  "
      ]
     },
     "execution_count": 177,
     "metadata": {},
     "output_type": "execute_result"
    }
   ],
   "source": [
    "df_gay['Task'] = df_gay['Task'].map(\n",
    "    {\n",
    "        \"Fake Essay\": 'fake', \n",
    "        \"True Essay\": 'true',\n",
    "        'Copy_1': 'copy_1',\n",
    "        'Copy_2': 'copy_2'\n",
    "    }) \n",
    "df_gay.head(3)"
   ]
  },
  {
   "cell_type": "code",
   "execution_count": 178,
   "metadata": {
    "scrolled": true
   },
   "outputs": [
    {
     "data": {
      "text/html": [
       "<div>\n",
       "<style scoped>\n",
       "    .dataframe tbody tr th:only-of-type {\n",
       "        vertical-align: middle;\n",
       "    }\n",
       "\n",
       "    .dataframe tbody tr th {\n",
       "        vertical-align: top;\n",
       "    }\n",
       "\n",
       "    .dataframe thead th {\n",
       "        text-align: right;\n",
       "    }\n",
       "</style>\n",
       "<table border=\"1\" class=\"dataframe\">\n",
       "  <thead>\n",
       "    <tr style=\"text-align: right;\">\n",
       "      <th></th>\n",
       "      <th>UserName</th>\n",
       "      <th>AccessKey</th>\n",
       "      <th>Topic</th>\n",
       "      <th>Opinion</th>\n",
       "      <th>ReviewDate</th>\n",
       "      <th>ReviewType</th>\n",
       "      <th>Task</th>\n",
       "      <th>Group</th>\n",
       "      <th>Flow</th>\n",
       "      <th>ReviewText</th>\n",
       "      <th>ReviewMeta</th>\n",
       "    </tr>\n",
       "  </thead>\n",
       "  <tbody>\n",
       "    <tr>\n",
       "      <th>0</th>\n",
       "      <td>A10E8QHPV30BAD</td>\n",
       "      <td>0102f02e052a473f8b5a87f42a9f6c13</td>\n",
       "      <td>Gun Control</td>\n",
       "      <td>oppose</td>\n",
       "      <td>Sat Jun 15 14:09:11 UTC 2013</td>\n",
       "      <td>AMT</td>\n",
       "      <td>copy_1</td>\n",
       "      <td>AMT</td>\n",
       "      <td>FT</td>\n",
       "      <td>I strongly support gun control being strongly ...</td>\n",
       "      <td>0 MouseUp 0 0;5309 KeyDown 16;5453 KeyDown 73;...</td>\n",
       "    </tr>\n",
       "    <tr>\n",
       "      <th>1</th>\n",
       "      <td>A10E8QHPV30BAD</td>\n",
       "      <td>0102f02e052a473f8b5a87f42a9f6c13</td>\n",
       "      <td>Gun Control</td>\n",
       "      <td>oppose</td>\n",
       "      <td>Sat Jun 15 14:11:57 UTC 2013</td>\n",
       "      <td>AMT</td>\n",
       "      <td>copy_2</td>\n",
       "      <td>AMT</td>\n",
       "      <td>FT</td>\n",
       "      <td>I strongly oppose gun control as I believe it ...</td>\n",
       "      <td>0 MouseUp 0 0;874 KeyDown 16;946 KeyDown 73;10...</td>\n",
       "    </tr>\n",
       "    <tr>\n",
       "      <th>2</th>\n",
       "      <td>A10E8QHPV30BAD</td>\n",
       "      <td>0102f02e052a473f8b5a87f42a9f6c13</td>\n",
       "      <td>Gun Control</td>\n",
       "      <td>oppose</td>\n",
       "      <td>Sat Jun 15 14:01:32 UTC 2013</td>\n",
       "      <td>AMT</td>\n",
       "      <td>fake</td>\n",
       "      <td>AMT</td>\n",
       "      <td>FT</td>\n",
       "      <td>I strongly support gun control being strongly ...</td>\n",
       "      <td>0 MouseUp 0 0;5023 KeyDown 91;5517 KeyDown 91;...</td>\n",
       "    </tr>\n",
       "  </tbody>\n",
       "</table>\n",
       "</div>"
      ],
      "text/plain": [
       "         UserName                         AccessKey        Topic Opinion  \\\n",
       "0  A10E8QHPV30BAD  0102f02e052a473f8b5a87f42a9f6c13  Gun Control  oppose   \n",
       "1  A10E8QHPV30BAD  0102f02e052a473f8b5a87f42a9f6c13  Gun Control  oppose   \n",
       "2  A10E8QHPV30BAD  0102f02e052a473f8b5a87f42a9f6c13  Gun Control  oppose   \n",
       "\n",
       "                     ReviewDate ReviewType    Task Group Flow  \\\n",
       "0  Sat Jun 15 14:09:11 UTC 2013        AMT  copy_1   AMT   FT   \n",
       "1  Sat Jun 15 14:11:57 UTC 2013        AMT  copy_2   AMT   FT   \n",
       "2  Sat Jun 15 14:01:32 UTC 2013        AMT    fake   AMT   FT   \n",
       "\n",
       "                                          ReviewText  \\\n",
       "0  I strongly support gun control being strongly ...   \n",
       "1  I strongly oppose gun control as I believe it ...   \n",
       "2  I strongly support gun control being strongly ...   \n",
       "\n",
       "                                          ReviewMeta  \n",
       "0  0 MouseUp 0 0;5309 KeyDown 16;5453 KeyDown 73;...  \n",
       "1  0 MouseUp 0 0;874 KeyDown 16;946 KeyDown 73;10...  \n",
       "2  0 MouseUp 0 0;5023 KeyDown 91;5517 KeyDown 91;...  "
      ]
     },
     "execution_count": 178,
     "metadata": {},
     "output_type": "execute_result"
    }
   ],
   "source": [
    "df_gun['Task'] = df_gun['Task'].map(\n",
    "    {\n",
    "        \"Fake Essay\": 'fake', \n",
    "        \"True Essay\": 'true',\n",
    "        'Copy_1': 'copy_1',\n",
    "        'Copy_2': 'copy_2'\n",
    "    }) \n",
    "df_gun.head(3)"
   ]
  },
  {
   "cell_type": "markdown",
   "metadata": {},
   "source": [
    "### Lets concat three datasets and leave only 5 columns"
   ]
  },
  {
   "cell_type": "code",
   "execution_count": 179,
   "metadata": {},
   "outputs": [
    {
     "data": {
      "text/html": [
       "<div>\n",
       "<style scoped>\n",
       "    .dataframe tbody tr th:only-of-type {\n",
       "        vertical-align: middle;\n",
       "    }\n",
       "\n",
       "    .dataframe tbody tr th {\n",
       "        vertical-align: top;\n",
       "    }\n",
       "\n",
       "    .dataframe thead th {\n",
       "        text-align: right;\n",
       "    }\n",
       "</style>\n",
       "<table border=\"1\" class=\"dataframe\">\n",
       "  <thead>\n",
       "    <tr style=\"text-align: right;\">\n",
       "      <th></th>\n",
       "      <th>UserName</th>\n",
       "      <th>AccessKey</th>\n",
       "      <th>Topic</th>\n",
       "      <th>Task</th>\n",
       "      <th>ReviewText</th>\n",
       "      <th>ReviewMeta</th>\n",
       "    </tr>\n",
       "  </thead>\n",
       "  <tbody>\n",
       "    <tr>\n",
       "      <th>0</th>\n",
       "      <td>A002160837SWJFPIAI7L7</td>\n",
       "      <td>392aa3e372054948a5cabd637b2e239b</td>\n",
       "      <td>AMT</td>\n",
       "      <td>copy_1</td>\n",
       "      <td>Famous Daves is a good place to go for some go...</td>\n",
       "      <td>0 MouseUp 0 0;535 KeyDown 16;776 KeyDown 70;79...</td>\n",
       "    </tr>\n",
       "    <tr>\n",
       "      <th>1</th>\n",
       "      <td>A002160837SWJFPIAI7L7</td>\n",
       "      <td>392aa3e372054948a5cabd637b2e239b</td>\n",
       "      <td>AMT</td>\n",
       "      <td>copy_2</td>\n",
       "      <td>The Original Shrimp Place is a good place to c...</td>\n",
       "      <td>0 MouseUp 0 0;491 KeyDown 16;778 KeyDown 84;82...</td>\n",
       "    </tr>\n",
       "    <tr>\n",
       "      <th>2</th>\n",
       "      <td>A002160837SWJFPIAI7L7</td>\n",
       "      <td>392aa3e372054948a5cabd637b2e239b</td>\n",
       "      <td>AMT</td>\n",
       "      <td>fake</td>\n",
       "      <td>The Original Shrimp Place is a good place to c...</td>\n",
       "      <td>0 MouseUp 0 0;849 KeyDown 16;966 KeyDown 84;10...</td>\n",
       "    </tr>\n",
       "    <tr>\n",
       "      <th>3</th>\n",
       "      <td>A002160837SWJFPIAI7L7</td>\n",
       "      <td>392aa3e372054948a5cabd637b2e239b</td>\n",
       "      <td>AMT</td>\n",
       "      <td>true</td>\n",
       "      <td>Famous Daves is a good place to go for some go...</td>\n",
       "      <td>0 MouseUp 0 0;6347 KeyDown 16;6443 KeyDown 70;...</td>\n",
       "    </tr>\n",
       "    <tr>\n",
       "      <th>4</th>\n",
       "      <td>A0436270XG2E3RS5T61O</td>\n",
       "      <td>2746b106ea6e42efb6104f45d6b2360c</td>\n",
       "      <td>AMT</td>\n",
       "      <td>copy_1</td>\n",
       "      <td>Being a big admirer of Italian food, I conside...</td>\n",
       "      <td>0 MouseUp 0 0;597 KeyDown 17;1093 KeyDown 17;1...</td>\n",
       "    </tr>\n",
       "  </tbody>\n",
       "</table>\n",
       "</div>"
      ],
      "text/plain": [
       "                UserName                         AccessKey Topic    Task  \\\n",
       "0  A002160837SWJFPIAI7L7  392aa3e372054948a5cabd637b2e239b   AMT  copy_1   \n",
       "1  A002160837SWJFPIAI7L7  392aa3e372054948a5cabd637b2e239b   AMT  copy_2   \n",
       "2  A002160837SWJFPIAI7L7  392aa3e372054948a5cabd637b2e239b   AMT    fake   \n",
       "3  A002160837SWJFPIAI7L7  392aa3e372054948a5cabd637b2e239b   AMT    true   \n",
       "4   A0436270XG2E3RS5T61O  2746b106ea6e42efb6104f45d6b2360c   AMT  copy_1   \n",
       "\n",
       "                                          ReviewText  \\\n",
       "0  Famous Daves is a good place to go for some go...   \n",
       "1  The Original Shrimp Place is a good place to c...   \n",
       "2  The Original Shrimp Place is a good place to c...   \n",
       "3  Famous Daves is a good place to go for some go...   \n",
       "4  Being a big admirer of Italian food, I conside...   \n",
       "\n",
       "                                          ReviewMeta  \n",
       "0  0 MouseUp 0 0;535 KeyDown 16;776 KeyDown 70;79...  \n",
       "1  0 MouseUp 0 0;491 KeyDown 16;778 KeyDown 84;82...  \n",
       "2  0 MouseUp 0 0;849 KeyDown 16;966 KeyDown 84;10...  \n",
       "3  0 MouseUp 0 0;6347 KeyDown 16;6443 KeyDown 70;...  \n",
       "4  0 MouseUp 0 0;597 KeyDown 17;1093 KeyDown 17;1...  "
      ]
     },
     "execution_count": 179,
     "metadata": {},
     "output_type": "execute_result"
    }
   ],
   "source": [
    "datasets = (df_atm, df_gay, df_gun)\n",
    "df = pd.concat(\n",
    "    (dataset[[\n",
    "        'UserName', \n",
    "        'AccessKey', \n",
    "        'Topic', \n",
    "        'Task',\n",
    "        'ReviewText', \n",
    "        'ReviewMeta'\n",
    "    ]] for dataset in datasets),\n",
    "    ignore_index=True)\n",
    "df.head()"
   ]
  },
  {
   "cell_type": "code",
   "execution_count": 180,
   "metadata": {
    "scrolled": true
   },
   "outputs": [
    {
     "name": "stdout",
     "output_type": "stream",
     "text": [
      "<class 'pandas.core.frame.DataFrame'>\n",
      "RangeIndex: 5200 entries, 0 to 5199\n",
      "Data columns (total 6 columns):\n",
      " #   Column      Non-Null Count  Dtype \n",
      "---  ------      --------------  ----- \n",
      " 0   UserName    5200 non-null   object\n",
      " 1   AccessKey   5200 non-null   object\n",
      " 2   Topic       5200 non-null   object\n",
      " 3   Task        5200 non-null   object\n",
      " 4   ReviewText  5200 non-null   object\n",
      " 5   ReviewMeta  5200 non-null   object\n",
      "dtypes: object(6)\n",
      "memory usage: 243.9+ KB\n"
     ]
    }
   ],
   "source": [
    "df.info()"
   ]
  },
  {
   "cell_type": "markdown",
   "metadata": {},
   "source": [
    "### As a result, we have 1060 unique users:"
   ]
  },
  {
   "cell_type": "code",
   "execution_count": 181,
   "metadata": {},
   "outputs": [
    {
     "data": {
      "text/plain": [
       "1060"
      ]
     },
     "execution_count": 181,
     "metadata": {},
     "output_type": "execute_result"
    }
   ],
   "source": [
    "len(df['UserName'].unique())"
   ]
  },
  {
   "cell_type": "code",
   "execution_count": 182,
   "metadata": {},
   "outputs": [
    {
     "data": {
      "text/plain": [
       "1300"
      ]
     },
     "execution_count": 182,
     "metadata": {},
     "output_type": "execute_result"
    }
   ],
   "source": [
    "len(df['AccessKey'].unique())"
   ]
  },
  {
   "cell_type": "markdown",
   "metadata": {},
   "source": [
    "### Lets save the data into file"
   ]
  },
  {
   "cell_type": "code",
   "execution_count": 183,
   "metadata": {},
   "outputs": [],
   "source": [
    "# df.to_csv(r'data/merged_datasets.csv', sep='\\t')"
   ]
  },
  {
   "cell_type": "markdown",
   "metadata": {},
   "source": [
    "# 2. Data Investigation"
   ]
  },
  {
   "cell_type": "code",
   "execution_count": 184,
   "metadata": {},
   "outputs": [
    {
     "data": {
      "text/plain": [
       "'0 MouseUp 0 0;16705 KeyDown 16;17170 KeyDown 16;17200 KeyDown 16;17229 KeyDown 16;17258 KeyDown 16;17287 KeyDown 16;17317 KeyDown 16;17346 KeyDown 16;17375 KeyDown 16;17404 KeyDown 16;17433 KeyDown 16;17463 KeyDown 16;17492 KeyDown 16;17521 KeyDown 16;17552 KeyDown 16;17580 KeyDown 16;17609 KeyDown 16;17630 KeyDown 73;17717 KeyUp 73;17925 KeyUp 16;18397 KeyDown 32;18528 KeyUp 32;18567 KeyDown 87;1'"
      ]
     },
     "execution_count": 184,
     "metadata": {},
     "output_type": "execute_result"
    }
   ],
   "source": [
    "df['ReviewMeta'][59][0:400]"
   ]
  },
  {
   "cell_type": "markdown",
   "metadata": {},
   "source": [
    "### We will build two datasets: `df_dwells` and `df_transitions`. \n",
    "\n",
    "`dwells` will hold the times between each `KeyDown` and `KeyUp` events. \n",
    "The `transitions` dataset will represent `time` measure ('down-down time') – the time between previous key was down till the next key is down. (always positive)."
   ]
  },
  {
   "cell_type": "code",
   "execution_count": 185,
   "metadata": {},
   "outputs": [],
   "source": [
    "def process_keystroke(line):\n",
    "    res = line.split(' ')\n",
    "    if len(res) > 3:\n",
    "        return f'UNKNOWN: {line}'\n",
    "    \n",
    "    time, command, key = res\n",
    "    return (time, command, key, chr(int(key)))\n",
    "\n",
    "def code_to_str(keycode):\n",
    "    keycode = int(keycode)\n",
    "    mappings = {\n",
    "        16: 'shift',\n",
    "        8: 'backspace',\n",
    "        32: 'space'\n",
    "    }\n",
    "    return mappings.get(keycode, chr(keycode))\n",
    "\n",
    "vcode_to_str = np.vectorize(code_to_str)\n",
    "\n",
    "def process_keystrokes(inputs, user_id, attempt_id, task_name):\n",
    "    def data_row(time, code):\n",
    "        return [ user_id,  time,  command,  code, attempt_id, task_name ]\n",
    "    \n",
    "    def dwell_row(time, code):\n",
    "        return [ user_id,  time,  code, attempt_id, task_name ] \n",
    "    \n",
    "    def transition_row(time, code1, code2):\n",
    "        return [ user_id,  time,  code1, code2, attempt_id, task_name ]\n",
    "            \n",
    "    MOUSE_UP = 'MouseUp'\n",
    "    KEY_DOWN = 'KeyDown'\n",
    "    KEY_UP = 'KeyUp'\n",
    "    result = []\n",
    "    dwells = []\n",
    "    transitions = []\n",
    "    key_downs = {}\n",
    "    key_ups = {}\n",
    "    attempt_id = int(attempt_id)\n",
    "    last_key_up = None\n",
    "    last_key_down = None\n",
    "    \n",
    "    for keystroke in inputs.split(';'):\n",
    "        res = keystroke.split(' ')\n",
    "        \n",
    "        if len(res) < 3:\n",
    "            continue\n",
    "            \n",
    "        if res[1] == 'MouseUp':\n",
    "            continue\n",
    "\n",
    "        time, command, code = res\n",
    "        time = int(time)\n",
    "        code = int(code)\n",
    "        \n",
    "        if command == KEY_DOWN:\n",
    "            key_downs[code] = time\n",
    "            \n",
    "            if last_key_down:\n",
    "                last_down_code, last_down_time = last_key_down\n",
    "                timeshift = time - last_down_time \n",
    "                transitions.append(transition_row(timeshift, last_down_code, code))\n",
    "                \n",
    "            last_key_down = [code, time]\n",
    "            \n",
    "        if command == KEY_UP:\n",
    "            if code in key_downs:\n",
    "                timeshift = time - key_downs[code]\n",
    "                dwells.append(dwell_row(timeshift, code))\n",
    "                del key_downs[code]\n",
    "                last_key_up = [code, time]\n",
    "            \n",
    "        result.append(data_row(time, code))\n",
    "        \n",
    "    return result, dwells, transitions\n",
    "\n",
    "vprocess_keystrokes = np.vectorize(process_keystrokes)\n",
    "\n",
    "def process_data(df):\n",
    "    results = []\n",
    "    dwell_data = []\n",
    "    transitions_data = []\n",
    "    columns = ['user_id', 'time', 'command', 'code', 'attempt_id', 'task_name']\n",
    "    for index, inputs in df.iterrows():\n",
    "        all_keystrokes, dwells, transitions  = process_keystrokes(\n",
    "            inputs['ReviewMeta'], \n",
    "            inputs['UserName'], \n",
    "            index, \n",
    "            inputs['Task']\n",
    "        )\n",
    "        results.extend(all_keystrokes)\n",
    "        dwell_data.extend(dwells)\n",
    "        transitions_data.extend(transitions)\n",
    "    return \\\n",
    "        pd.DataFrame(dwell_data, columns=['user_id', 'time', 'code', 'attempt_id', 'task_name']), \\\n",
    "        pd.DataFrame(results, columns=['user_id', 'time', 'command', 'code', 'attempt_id', 'task_name']), \\\n",
    "        pd.DataFrame(transitions_data, columns=['user_id', 'time', 'code_from', 'code_to', 'attempt_id', 'task_name']) "
   ]
  },
  {
   "cell_type": "code",
   "execution_count": 203,
   "metadata": {},
   "outputs": [
    {
     "name": "stdout",
     "output_type": "stream",
     "text": [
      "<class 'pandas.core.frame.DataFrame'>\n",
      "RangeIndex: 4568673 entries, 0 to 4568672\n",
      "Data columns (total 5 columns):\n",
      " #   Column      Dtype \n",
      "---  ------      ----- \n",
      " 0   user_id     object\n",
      " 1   time        int64 \n",
      " 2   code        int64 \n",
      " 3   attempt_id  int64 \n",
      " 4   task_name   object\n",
      "dtypes: int64(3), object(2)\n",
      "memory usage: 174.3+ MB\n"
     ]
    }
   ],
   "source": [
    "df_dwells_raw, df_all_raw, df_transitions_raw = process_data(df)\n",
    "df_dwells_raw.info()"
   ]
  },
  {
   "cell_type": "code",
   "execution_count": 204,
   "metadata": {},
   "outputs": [
    {
     "data": {
      "text/html": [
       "<div>\n",
       "<style scoped>\n",
       "    .dataframe tbody tr th:only-of-type {\n",
       "        vertical-align: middle;\n",
       "    }\n",
       "\n",
       "    .dataframe tbody tr th {\n",
       "        vertical-align: top;\n",
       "    }\n",
       "\n",
       "    .dataframe thead th {\n",
       "        text-align: right;\n",
       "    }\n",
       "</style>\n",
       "<table border=\"1\" class=\"dataframe\">\n",
       "  <thead>\n",
       "    <tr style=\"text-align: right;\">\n",
       "      <th></th>\n",
       "      <th>user_id</th>\n",
       "      <th>time</th>\n",
       "      <th>code</th>\n",
       "      <th>attempt_id</th>\n",
       "      <th>task_name</th>\n",
       "    </tr>\n",
       "  </thead>\n",
       "  <tbody>\n",
       "    <tr>\n",
       "      <th>0</th>\n",
       "      <td>A002160837SWJFPIAI7L7</td>\n",
       "      <td>260</td>\n",
       "      <td>16</td>\n",
       "      <td>0</td>\n",
       "      <td>copy_1</td>\n",
       "    </tr>\n",
       "    <tr>\n",
       "      <th>1</th>\n",
       "      <td>A002160837SWJFPIAI7L7</td>\n",
       "      <td>192</td>\n",
       "      <td>70</td>\n",
       "      <td>0</td>\n",
       "      <td>copy_1</td>\n",
       "    </tr>\n",
       "    <tr>\n",
       "      <th>2</th>\n",
       "      <td>A002160837SWJFPIAI7L7</td>\n",
       "      <td>127</td>\n",
       "      <td>65</td>\n",
       "      <td>0</td>\n",
       "      <td>copy_1</td>\n",
       "    </tr>\n",
       "  </tbody>\n",
       "</table>\n",
       "</div>"
      ],
      "text/plain": [
       "                 user_id  time  code  attempt_id task_name\n",
       "0  A002160837SWJFPIAI7L7   260    16           0    copy_1\n",
       "1  A002160837SWJFPIAI7L7   192    70           0    copy_1\n",
       "2  A002160837SWJFPIAI7L7   127    65           0    copy_1"
      ]
     },
     "execution_count": 204,
     "metadata": {},
     "output_type": "execute_result"
    }
   ],
   "source": [
    "df_dwells_raw.head(3)"
   ]
  },
  {
   "cell_type": "markdown",
   "metadata": {},
   "source": [
    "### Now, add a human interperation of the key code"
   ]
  },
  {
   "cell_type": "code",
   "execution_count": 188,
   "metadata": {},
   "outputs": [],
   "source": [
    "df_all_raw['key'] = vcode_to_str(df_all_raw['code'])"
   ]
  },
  {
   "cell_type": "code",
   "execution_count": 125,
   "metadata": {},
   "outputs": [
    {
     "data": {
      "text/html": [
       "<div>\n",
       "<style scoped>\n",
       "    .dataframe tbody tr th:only-of-type {\n",
       "        vertical-align: middle;\n",
       "    }\n",
       "\n",
       "    .dataframe tbody tr th {\n",
       "        vertical-align: top;\n",
       "    }\n",
       "\n",
       "    .dataframe thead th {\n",
       "        text-align: right;\n",
       "    }\n",
       "</style>\n",
       "<table border=\"1\" class=\"dataframe\">\n",
       "  <thead>\n",
       "    <tr style=\"text-align: right;\">\n",
       "      <th></th>\n",
       "      <th>user_id</th>\n",
       "      <th>time</th>\n",
       "      <th>command</th>\n",
       "      <th>code</th>\n",
       "      <th>attempt_id</th>\n",
       "      <th>task_name</th>\n",
       "      <th>key</th>\n",
       "    </tr>\n",
       "  </thead>\n",
       "  <tbody>\n",
       "    <tr>\n",
       "      <th>0</th>\n",
       "      <td>A002160837SWJFPIAI7L7</td>\n",
       "      <td>535</td>\n",
       "      <td>KeyDown</td>\n",
       "      <td>16</td>\n",
       "      <td>0</td>\n",
       "      <td>copy_1</td>\n",
       "      <td>shift</td>\n",
       "    </tr>\n",
       "    <tr>\n",
       "      <th>1</th>\n",
       "      <td>A002160837SWJFPIAI7L7</td>\n",
       "      <td>776</td>\n",
       "      <td>KeyDown</td>\n",
       "      <td>70</td>\n",
       "      <td>0</td>\n",
       "      <td>copy_1</td>\n",
       "      <td>F</td>\n",
       "    </tr>\n",
       "    <tr>\n",
       "      <th>2</th>\n",
       "      <td>A002160837SWJFPIAI7L7</td>\n",
       "      <td>795</td>\n",
       "      <td>KeyUp</td>\n",
       "      <td>16</td>\n",
       "      <td>0</td>\n",
       "      <td>copy_1</td>\n",
       "      <td>shift</td>\n",
       "    </tr>\n",
       "    <tr>\n",
       "      <th>3</th>\n",
       "      <td>A002160837SWJFPIAI7L7</td>\n",
       "      <td>924</td>\n",
       "      <td>KeyDown</td>\n",
       "      <td>65</td>\n",
       "      <td>0</td>\n",
       "      <td>copy_1</td>\n",
       "      <td>A</td>\n",
       "    </tr>\n",
       "    <tr>\n",
       "      <th>4</th>\n",
       "      <td>A002160837SWJFPIAI7L7</td>\n",
       "      <td>968</td>\n",
       "      <td>KeyUp</td>\n",
       "      <td>70</td>\n",
       "      <td>0</td>\n",
       "      <td>copy_1</td>\n",
       "      <td>F</td>\n",
       "    </tr>\n",
       "  </tbody>\n",
       "</table>\n",
       "</div>"
      ],
      "text/plain": [
       "                 user_id  time  command  code  attempt_id task_name    key\n",
       "0  A002160837SWJFPIAI7L7   535  KeyDown    16           0    copy_1  shift\n",
       "1  A002160837SWJFPIAI7L7   776  KeyDown    70           0    copy_1      F\n",
       "2  A002160837SWJFPIAI7L7   795    KeyUp    16           0    copy_1  shift\n",
       "3  A002160837SWJFPIAI7L7   924  KeyDown    65           0    copy_1      A\n",
       "4  A002160837SWJFPIAI7L7   968    KeyUp    70           0    copy_1      F"
      ]
     },
     "execution_count": 125,
     "metadata": {},
     "output_type": "execute_result"
    }
   ],
   "source": [
    "df_all_raw.head()"
   ]
  },
  {
   "cell_type": "code",
   "execution_count": 205,
   "metadata": {
    "scrolled": false
   },
   "outputs": [
    {
     "data": {
      "image/png": "[encoded data removed]",
      "text/plain": [
       "<Figure size 1080x360 with 1 Axes>"
      ]
     },
     "metadata": {},
     "output_type": "display_data"
    }
   ],
   "source": [
    "# alt.Chart(df_dwells).mark_bar().encode(\n",
    "#     alt.X(\"time:Q\", bin=alt.Bin(maxbins=50), axis=alt.Axis(title='Time (ms)')),\n",
    "#     y=alt.Y('count()', axis=alt.Axis(title=None))\n",
    "# ).transform_filter(\n",
    "#     'datum.time > 0 & datum.time < 300'\n",
    "# ).properties(\n",
    "#     width=800, title='Dwells time distribution'\n",
    "# )\n",
    "plt.figure(figsize=(15, 5))\n",
    "df_dwells = df_dwells_raw.loc[(df_dwells_raw['time'] > 0) & (df_dwells_raw['time'] < 300)]\n",
    "plt.hist(df_dwells['time'], bins=20, density=True)\n",
    "plt.show()"
   ]
  },
  {
   "cell_type": "code",
   "execution_count": 206,
   "metadata": {},
   "outputs": [
    {
     "name": "stdout",
     "output_type": "stream",
     "text": [
      "<class 'pandas.core.frame.DataFrame'>\n",
      "Int64Index: 4542191 entries, 0 to 4568672\n",
      "Data columns (total 5 columns):\n",
      " #   Column      Dtype \n",
      "---  ------      ----- \n",
      " 0   user_id     object\n",
      " 1   time        int64 \n",
      " 2   code        int64 \n",
      " 3   attempt_id  int64 \n",
      " 4   task_name   object\n",
      "dtypes: int64(3), object(2)\n",
      "memory usage: 207.9+ MB\n"
     ]
    }
   ],
   "source": [
    "df_dwells.info()"
   ]
  },
  {
   "cell_type": "code",
   "execution_count": 216,
   "metadata": {
    "scrolled": true
   },
   "outputs": [
    {
     "data": {
      "image/png": "[encoded data removed]",
      "text/plain": [
       "<Figure size 1080x360 with 1 Axes>"
      ]
     },
     "metadata": {},
     "output_type": "display_data"
    }
   ],
   "source": [
    "# alt.Chart(df_transitions).mark_bar().encode(\n",
    "#     alt.X(\"time:Q\", bin=alt.Bin(maxbins=50), axis=alt.Axis(title='Time (ms)')),\n",
    "#     y=alt.Y('count()', axis=alt.Axis(title=None))\n",
    "# ).transform_filter(\n",
    "#     'datum.time > 0 & datum.time < 1700'\n",
    "# ).properties(width=800, title='Transition time distribution')\n",
    "\n",
    "plt.figure(figsize=(15, 5))\n",
    "df_transitions = df_transitions_raw.loc[(df_transitions_raw['time'] > 0) & (df_transitions_raw['time'] < 1000)]\n",
    "plt.hist(df_transitions['time'], bins=20, density=True)\n",
    "plt.show()"
   ]
  },
  {
   "cell_type": "code",
   "execution_count": 217,
   "metadata": {},
   "outputs": [
    {
     "data": {
      "text/plain": [
       "key\n",
       "       115\n",
       "\\t     294\n",
       "\n",
       "        2\n",
       "\\r    5801\n",
       "\u0011     3711\n",
       "      ... \n",
       "á        2\n",
       "â        8\n",
       "é       97\n",
       "ü     9776\n",
       "ÿ       38\n",
       "Name: command, Length: 108, dtype: int64"
      ]
     },
     "execution_count": 217,
     "metadata": {},
     "output_type": "execute_result"
    }
   ],
   "source": [
    "df_all.groupby('key').count()['command']"
   ]
  },
  {
   "cell_type": "code",
   "execution_count": 218,
   "metadata": {},
   "outputs": [
    {
     "data": {
      "text/html": [
       "\n",
       "<div id=\"altair-viz-5234f518911049d3a5ea20fc28dc34e0\"></div>\n",
       "<script type=\"text/javascript\">\n",
       "  (function(spec, embedOpt){\n",
       "    const outputDiv = document.getElementById(\"altair-viz-5234f518911049d3a5ea20fc28dc34e0\");\n",
       "    const paths = {\n",
       "      \"vega\": \"https://cdn.jsdelivr.net/npm//vega@5?noext\",\n",
       "      \"vega-lib\": \"https://cdn.jsdelivr.net/npm//vega-lib?noext\",\n",
       "      \"vega-lite\": \"https://cdn.jsdelivr.net/npm//vega-lite@4.0.2?noext\",\n",
       "      \"vega-embed\": \"https://cdn.jsdelivr.net/npm//vega-embed@6?noext\",\n",
       "    };\n",
       "\n",
       "    function loadScript(lib) {\n",
       "      return new Promise(function(resolve, reject) {\n",
       "        var s = document.createElement('script');\n",
       "        s.src = paths[lib];\n",
       "        s.async = true;\n",
       "        s.onload = () => resolve(paths[lib]);\n",
       "        s.onerror = () => reject(`Error loading script: ${paths[lib]}`);\n",
       "        document.getElementsByTagName(\"head\")[0].appendChild(s);\n",
       "      });\n",
       "    }\n",
       "\n",
       "    function showError(err) {\n",
       "      outputDiv.innerHTML = `<div class=\"error\" style=\"color:red;\">${err}</div>`;\n",
       "      throw err;\n",
       "    }\n",
       "\n",
       "    function displayChart(vegaEmbed) {\n",
       "      vegaEmbed(outputDiv, spec, embedOpt)\n",
       "        .catch(err => showError(`Javascript Error: ${err.message}<br>This usually means there's a typo in your chart specification. See the javascript console for the full traceback.`));\n",
       "    }\n",
       "\n",
       "    if(typeof define === \"function\" && define.amd) {\n",
       "      requirejs.config({paths});\n",
       "      require([\"vega-embed\"], displayChart, err => showError(`Error loading script: ${err.message}`));\n",
       "    } else if (typeof vegaEmbed === \"function\") {\n",
       "      displayChart(vegaEmbed);\n",
       "    } else {\n",
       "      loadScript(\"vega\")\n",
       "        .then(() => loadScript(\"vega-lite\"))\n",
       "        .then(() => loadScript(\"vega-embed\"))\n",
       "        .catch(showError)\n",
       "        .then(() => displayChart(vegaEmbed));\n",
       "    }\n",
       "  })({\"config\": {\"view\": {\"continuousWidth\": 400, \"continuousHeight\": 300}}, \"data\": {\"values\": [{\"key\": \"\", \"counter\": 115}, {\"key\": \"\\t\", \"counter\": 294}, {\"key\": \"\\f\", \"counter\": 2}, {\"key\": \"\\r\", \"counter\": 5801}, {\"key\": \"\\u0011\", \"counter\": 3711}, {\"key\": \"\\u0012\", \"counter\": 448}, {\"key\": \"\\u0013\", \"counter\": 4}, {\"key\": \"\\u0014\", \"counter\": 10530}, {\"key\": \"\\u001b\", \"counter\": 15}, {\"key\": \"!\", \"counter\": 2}, {\"key\": \"\\\"\", \"counter\": 20}, {\"key\": \"#\", \"counter\": 526}, {\"key\": \"$\", \"counter\": 118}, {\"key\": \"%\", \"counter\": 19020}, {\"key\": \"&\", \"counter\": 1248}, {\"key\": \"'\", \"counter\": 28006}, {\"key\": \"(\", \"counter\": 2204}, {\"key\": \",\", \"counter\": 6}, {\"key\": \"-\", \"counter\": 75}, {\"key\": \".\", \"counter\": 4150}, {\"key\": \"0\", \"counter\": 3229}, {\"key\": \"1\", \"counter\": 5827}, {\"key\": \"2\", \"counter\": 1004}, {\"key\": \"3\", \"counter\": 528}, {\"key\": \"4\", \"counter\": 650}, {\"key\": \"5\", \"counter\": 812}, {\"key\": \"6\", \"counter\": 246}, {\"key\": \"7\", \"counter\": 480}, {\"key\": \"8\", \"counter\": 296}, {\"key\": \"9\", \"counter\": 1793}, {\"key\": \";\", \"counter\": 820}, {\"key\": \"=\", \"counter\": 318}, {\"key\": \"A\", \"counter\": 576705}, {\"key\": \"B\", \"counter\": 98777}, {\"key\": \"C\", \"counter\": 182607}, {\"key\": \"D\", \"counter\": 232455}, {\"key\": \"E\", \"counter\": 835376}, {\"key\": \"F\", \"counter\": 142144}, {\"key\": \"G\", \"counter\": 163798}, {\"key\": \"H\", \"counter\": 329565}, {\"key\": \"I\", \"counter\": 486631}, {\"key\": \"J\", \"counter\": 9099}, {\"key\": \"K\", \"counter\": 41741}, {\"key\": \"L\", \"counter\": 292080}, {\"key\": \"M\", \"counter\": 167705}, {\"key\": \"N\", \"counter\": 456863}, {\"key\": \"O\", \"counter\": 526708}, {\"key\": \"P\", \"counter\": 128787}, {\"key\": \"Q\", \"counter\": 5990}, {\"key\": \"R\", \"counter\": 398386}, {\"key\": \"S\", \"counter\": 423938}, {\"key\": \"T\", \"counter\": 618294}, {\"key\": \"U\", \"counter\": 201873}, {\"key\": \"V\", \"counter\": 82799}, {\"key\": \"W\", \"counter\": 134920}, {\"key\": \"X\", \"counter\": 14323}, {\"key\": \"Y\", \"counter\": 148650}, {\"key\": \"Z\", \"counter\": 11242}, {\"key\": \"[\", \"counter\": 210}, {\"key\": \"]\", \"counter\": 54}, {\"key\": \"`\", \"counter\": 54}, {\"key\": \"a\", \"counter\": 44}, {\"key\": \"b\", \"counter\": 53}, {\"key\": \"backspace\", \"counter\": 632218}, {\"key\": \"c\", \"counter\": 8}, {\"key\": \"d\", \"counter\": 28}, {\"key\": \"e\", \"counter\": 42}, {\"key\": \"f\", \"counter\": 5}, {\"key\": \"h\", \"counter\": 2}, {\"key\": \"i\", \"counter\": 30}, {\"key\": \"k\", \"counter\": 18}, {\"key\": \"m\", \"counter\": 20}, {\"key\": \"n\", \"counter\": 22}, {\"key\": \"o\", \"counter\": 6}, {\"key\": \"p\", \"counter\": 7}, {\"key\": \"shift\", \"counter\": 254853}, {\"key\": \"space\", \"counter\": 1502270}, {\"key\": \"z\", \"counter\": 10}, {\"key\": \"{\", \"counter\": 9}, {\"key\": \"\\u0090\", \"counter\": 32}, {\"key\": \"\\u00a1\", \"counter\": 8}, {\"key\": \"\\u00a2\", \"counter\": 2}, {\"key\": \"\\u00a7\", \"counter\": 2}, {\"key\": \"\\u00a8\", \"counter\": 10}, {\"key\": \"\\u00a9\", \"counter\": 8}, {\"key\": \"\\u00ad\", \"counter\": 2450}, {\"key\": \"\\u00ae\", \"counter\": 149}, {\"key\": \"\\u00af\", \"counter\": 115}, {\"key\": \"\\u00b0\", \"counter\": 2}, {\"key\": \"\\u00b6\", \"counter\": 1}, {\"key\": \"\\u00b7\", \"counter\": 6}, {\"key\": \"\\u00ba\", \"counter\": 1528}, {\"key\": \"\\u00bb\", \"counter\": 525}, {\"key\": \"\\u00bc\", \"counter\": 57640}, {\"key\": \"\\u00bd\", \"counter\": 4033}, {\"key\": \"\\u00be\", \"counter\": 83066}, {\"key\": \"\\u00bf\", \"counter\": 4002}, {\"key\": \"\\u00c0\", \"counter\": 68}, {\"key\": \"\\u00db\", \"counter\": 228}, {\"key\": \"\\u00dc\", \"counter\": 292}, {\"key\": \"\\u00dd\", \"counter\": 42}, {\"key\": \"\\u00de\", \"counter\": 22367}, {\"key\": \"\\u00e0\", \"counter\": 89}, {\"key\": \"\\u00e1\", \"counter\": 2}, {\"key\": \"\\u00e2\", \"counter\": 8}, {\"key\": \"\\u00e9\", \"counter\": 97}, {\"key\": \"\\u00fc\", \"counter\": 9776}, {\"key\": \"\\u00ff\", \"counter\": 38}]}, \"mark\": \"bar\", \"encoding\": {\"x\": {\"type\": \"quantitative\", \"field\": \"counter\"}, \"y\": {\"type\": \"ordinal\", \"field\": \"key\", \"sort\": {\"field\": \"counter\", \"order\": \"descending\"}}}, \"transform\": [{\"filter\": \"datum.counter > 2000\"}], \"$schema\": \"https://vega.github.io/schema/vega-lite/v4.0.2.json\"}, {\"mode\": \"vega-lite\"});\n",
       "</script>"
      ],
      "text/plain": [
       "alt.Chart(...)"
      ]
     },
     "execution_count": 218,
     "metadata": {},
     "output_type": "execute_result"
    }
   ],
   "source": [
    "def grouped_by_key(df):\n",
    "    values = []\n",
    "    for index, row in df.iterrows():\n",
    "        values.append({'key': index, 'counter': int(row['command'])})\n",
    "    return values\n",
    "grouped_data = grouped_by_key(df_all.groupby('key').count())\n",
    "grouped_df = alt.Data(values = grouped_data)\n",
    "\n",
    "alt.Chart(grouped_df).mark_bar().encode(\n",
    " x = 'counter:Q',\n",
    " y = alt.Y('key:O', sort = alt.Sort(field = 'counter', order='descending')),\n",
    ").transform_filter('datum.counter > 2000')"
   ]
  },
  {
   "cell_type": "code",
   "execution_count": 220,
   "metadata": {},
   "outputs": [],
   "source": [
    "def chart_for_user(user_id):\n",
    "    return alt.Chart(df_dwells.loc[df_dwells['user_id'] == user_id]).mark_bar().encode(\n",
    "        x = alt.X('mean(time):Q', scale=alt.Scale(domain=[0, 200])),\n",
    "        y = alt.Y('code:O', sort = 'ascending')\n",
    "    )"
   ]
  },
  {
   "cell_type": "code",
   "execution_count": 221,
   "metadata": {},
   "outputs": [
    {
     "data": {
      "text/html": [
       "\n",
       "<div id=\"altair-viz-ccf68d739ce54fd29fa08c1355c2711a\"></div>\n",
       "<script type=\"text/javascript\">\n",
       "  (function(spec, embedOpt){\n",
       "    const outputDiv = document.getElementById(\"altair-viz-ccf68d739ce54fd29fa08c1355c2711a\");\n",
       "    const paths = {\n",
       "      \"vega\": \"https://cdn.jsdelivr.net/npm//vega@5?noext\",\n",
       "      \"vega-lib\": \"https://cdn.jsdelivr.net/npm//vega-lib?noext\",\n",
       "      \"vega-lite\": \"https://cdn.jsdelivr.net/npm//vega-lite@4.0.2?noext\",\n",
       "      \"vega-embed\": \"https://cdn.jsdelivr.net/npm//vega-embed@6?noext\",\n",
       "    };\n",
       "\n",
       "    function loadScript(lib) {\n",
       "      return new Promise(function(resolve, reject) {\n",
       "        var s = document.createElement('script');\n",
       "        s.src = paths[lib];\n",
       "        s.async = true;\n",
       "        s.onload = () => resolve(paths[lib]);\n",
       "        s.onerror = () => reject(`Error loading script: ${paths[lib]}`);\n",
       "        document.getElementsByTagName(\"head\")[0].appendChild(s);\n",
       "      });\n",
       "    }\n",
       "\n",
       "    function showError(err) {\n",
       "      outputDiv.innerHTML = `<div class=\"error\" style=\"color:red;\">${err}</div>`;\n",
       "      throw err;\n",
       "    }\n",
       "\n",
       "    function displayChart(vegaEmbed) {\n",
       "      vegaEmbed(outputDiv, spec, embedOpt)\n",
       "        .catch(err => showError(`Javascript Error: ${err.message}<br>This usually means there's a typo in your chart specification. See the javascript console for the full traceback.`));\n",
       "    }\n",
       "\n",
       "    if(typeof define === \"function\" && define.amd) {\n",
       "      requirejs.config({paths});\n",
       "      require([\"vega-embed\"], displayChart, err => showError(`Error loading script: ${err.message}`));\n",
       "    } else if (typeof vegaEmbed === \"function\") {\n",
       "      displayChart(vegaEmbed);\n",
       "    } else {\n",
       "      loadScript(\"vega\")\n",
       "        .then(() => loadScript(\"vega-lite\"))\n",
       "        .then(() => loadScript(\"vega-embed\"))\n",
       "        .catch(showError)\n",
       "        .then(() => displayChart(vegaEmbed));\n",
       "    }\n",
       "  })({\"config\": {\"view\": {\"continuousWidth\": 400, \"continuousHeight\": 300}}, \"data\": {\"url\": \"tmp/altdata/altair-data-f89b6dd8d304165c36a6ba18f5fb9056.json\", \"format\": {\"type\": \"json\"}}, \"mark\": \"bar\", \"encoding\": {\"x\": {\"type\": \"quantitative\", \"aggregate\": \"mean\", \"field\": \"time\", \"scale\": {\"domain\": [0, 200]}}, \"y\": {\"type\": \"ordinal\", \"field\": \"code\", \"sort\": \"ascending\"}}, \"$schema\": \"https://vega.github.io/schema/vega-lite/v4.0.2.json\"}, {\"mode\": \"vega-lite\"});\n",
       "</script>"
      ],
      "text/plain": [
       "alt.Chart(...)"
      ]
     },
     "execution_count": 221,
     "metadata": {},
     "output_type": "execute_result"
    }
   ],
   "source": [
    "chart_for_user('A12TA2E23C9YGK')"
   ]
  },
  {
   "cell_type": "code",
   "execution_count": 222,
   "metadata": {},
   "outputs": [
    {
     "data": {
      "text/html": [
       "\n",
       "<div id=\"altair-viz-a911d29237ad428a93a36e9bb1f4427a\"></div>\n",
       "<script type=\"text/javascript\">\n",
       "  (function(spec, embedOpt){\n",
       "    const outputDiv = document.getElementById(\"altair-viz-a911d29237ad428a93a36e9bb1f4427a\");\n",
       "    const paths = {\n",
       "      \"vega\": \"https://cdn.jsdelivr.net/npm//vega@5?noext\",\n",
       "      \"vega-lib\": \"https://cdn.jsdelivr.net/npm//vega-lib?noext\",\n",
       "      \"vega-lite\": \"https://cdn.jsdelivr.net/npm//vega-lite@4.0.2?noext\",\n",
       "      \"vega-embed\": \"https://cdn.jsdelivr.net/npm//vega-embed@6?noext\",\n",
       "    };\n",
       "\n",
       "    function loadScript(lib) {\n",
       "      return new Promise(function(resolve, reject) {\n",
       "        var s = document.createElement('script');\n",
       "        s.src = paths[lib];\n",
       "        s.async = true;\n",
       "        s.onload = () => resolve(paths[lib]);\n",
       "        s.onerror = () => reject(`Error loading script: ${paths[lib]}`);\n",
       "        document.getElementsByTagName(\"head\")[0].appendChild(s);\n",
       "      });\n",
       "    }\n",
       "\n",
       "    function showError(err) {\n",
       "      outputDiv.innerHTML = `<div class=\"error\" style=\"color:red;\">${err}</div>`;\n",
       "      throw err;\n",
       "    }\n",
       "\n",
       "    function displayChart(vegaEmbed) {\n",
       "      vegaEmbed(outputDiv, spec, embedOpt)\n",
       "        .catch(err => showError(`Javascript Error: ${err.message}<br>This usually means there's a typo in your chart specification. See the javascript console for the full traceback.`));\n",
       "    }\n",
       "\n",
       "    if(typeof define === \"function\" && define.amd) {\n",
       "      requirejs.config({paths});\n",
       "      require([\"vega-embed\"], displayChart, err => showError(`Error loading script: ${err.message}`));\n",
       "    } else if (typeof vegaEmbed === \"function\") {\n",
       "      displayChart(vegaEmbed);\n",
       "    } else {\n",
       "      loadScript(\"vega\")\n",
       "        .then(() => loadScript(\"vega-lite\"))\n",
       "        .then(() => loadScript(\"vega-embed\"))\n",
       "        .catch(showError)\n",
       "        .then(() => displayChart(vegaEmbed));\n",
       "    }\n",
       "  })({\"config\": {\"view\": {\"continuousWidth\": 400, \"continuousHeight\": 300}}, \"data\": {\"url\": \"tmp/altdata/altair-data-b75af0affca34de354389673c352ce0a.json\", \"format\": {\"type\": \"json\"}}, \"mark\": \"bar\", \"encoding\": {\"x\": {\"type\": \"quantitative\", \"aggregate\": \"mean\", \"field\": \"time\", \"scale\": {\"domain\": [0, 200]}}, \"y\": {\"type\": \"ordinal\", \"field\": \"code\", \"sort\": \"ascending\"}}, \"$schema\": \"https://vega.github.io/schema/vega-lite/v4.0.2.json\"}, {\"mode\": \"vega-lite\"});\n",
       "</script>"
      ],
      "text/plain": [
       "alt.Chart(...)"
      ]
     },
     "execution_count": 222,
     "metadata": {},
     "output_type": "execute_result"
    }
   ],
   "source": [
    "#df_dwells['user_id'].unique()\n",
    "chart_for_user('A1IAK1JCYVR3R5')"
   ]
  },
  {
   "cell_type": "code",
   "execution_count": null,
   "metadata": {},
   "outputs": [],
   "source": []
  }
 ],
 "metadata": {
  "kernelspec": {
   "display_name": "Python 3",
   "language": "python",
   "name": "python3"
  },
  "language_info": {
   "codemirror_mode": {
    "name": "ipython",
    "version": 3
   },
   "file_extension": ".py",
   "mimetype": "text/x-python",
   "name": "python",
   "nbconvert_exporter": "python",
   "pygments_lexer": "ipython3",
   "version": "3.7.5"
  }
 },
 "nbformat": 4,
 "nbformat_minor": 2
}
