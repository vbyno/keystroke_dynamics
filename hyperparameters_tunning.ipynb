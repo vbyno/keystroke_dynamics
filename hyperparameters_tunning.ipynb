{
 "cells": [
  {
   "cell_type": "markdown",
   "metadata": {},
   "source": [
    "# Hyperparameters Tunning"
   ]
  },
  {
   "cell_type": "code",
   "execution_count": 1,
   "metadata": {},
   "outputs": [],
   "source": [
    "import pandas as pd\n",
    "import numpy as np\n",
    "import sklearn\n",
    "import altair as alt\n",
    "import matplotlib.pyplot as plt\n",
    "import os\n",
    "import tabulate\n",
    "import seaborn as sns\n",
    "\n",
    "sns.set()"
   ]
  },
  {
   "cell_type": "code",
   "execution_count": 2,
   "metadata": {},
   "outputs": [
    {
     "output_type": "execute_result",
     "data": {
      "text/plain": "DataTransformerRegistry.enable('default')"
     },
     "metadata": {},
     "execution_count": 2
    }
   ],
   "source": [
    "alt.data_transformers.enable('default', max_rows=None) \n",
    "# alt.renderers.enable('default')\n",
    "# alt.renderers.enable('notebook')"
   ]
  },
  {
   "cell_type": "code",
   "execution_count": 3,
   "metadata": {},
   "outputs": [
    {
     "output_type": "execute_result",
     "data": {
      "text/plain": "DataTransformerRegistry.enable('custom')"
     },
     "metadata": {},
     "execution_count": 3
    }
   ],
   "source": [
    "# Save temp altair json files in separate folder\n",
    "os.makedirs('tmp/altdata', exist_ok=True)\n",
    "\n",
    "def custom(data):\n",
    "    return alt.pipe(data, alt.to_json(filename='tmp/altdata/{prefix}-{hash}.{extension}') )\n",
    "\n",
    "alt.data_transformers.register('custom', custom)\n",
    "alt.data_transformers.enable('custom')"
   ]
  },
  {
   "cell_type": "code",
   "execution_count": 4,
   "metadata": {},
   "outputs": [],
   "source": [
    "def concat_datasets(datasets):\n",
    "    return pd.concat(\n",
    "        (dataset[[\n",
    "            'UserName', \n",
    "            'AccessKey', \n",
    "            'Topic', \n",
    "            'Task',\n",
    "            'ReviewText', \n",
    "            'ReviewMeta'\n",
    "        ]] for dataset in datasets),\n",
    "        ignore_index=True)\n",
    "\n",
    "def read_dataset(files = ('data/ReviewAMT_500_t.csv', 'data/GayMarriage_400.csv', 'data/GunControl_400.csv')):\n",
    "    df_atm = pd.read_csv(files[0], sep='\\t')\n",
    "    df_gay = pd.read_csv(files[1], sep='\\t')\n",
    "    df_gun = pd.read_csv(files[2], sep='\\t')\n",
    "\n",
    "    df_atm.rename(columns = {'ReviewTopic': 'Topic'}, inplace=True)\n",
    "    df_atm['Task'] = df_atm['Task'].map(\n",
    "        {\n",
    "            \"Fake Review\": 'fake', \n",
    "            \"True Review\": 'true',\n",
    "            'Copy_1': 'copy_1',\n",
    "            'Copy_2': 'copy_2'\n",
    "        })\n",
    "    df_gay['Task'] = df_gay['Task'].map(\n",
    "        {\n",
    "            \"Fake Essay\": 'fake', \n",
    "            \"True Essay\": 'true',\n",
    "            'Copy_1': 'copy_1',\n",
    "            'Copy_2': 'copy_2'\n",
    "        }) \n",
    "    df_gun['Task'] = df_gun['Task'].map(\n",
    "        {\n",
    "            \"Fake Essay\": 'fake', \n",
    "            \"True Essay\": 'true',\n",
    "            'Copy_1': 'copy_1',\n",
    "            'Copy_2': 'copy_2'\n",
    "        }) \n",
    "    return concat_datasets((df_atm, df_gay, df_gun))\n",
    "\n",
    "df = read_dataset()"
   ]
  },
  {
   "cell_type": "code",
   "execution_count": 5,
   "metadata": {},
   "outputs": [
    {
     "output_type": "stream",
     "name": "stdout",
     "text": "<class 'pandas.core.frame.DataFrame'>\nRangeIndex: 5200 entries, 0 to 5199\nData columns (total 6 columns):\n #   Column      Non-Null Count  Dtype \n---  ------      --------------  ----- \n 0   UserName    5200 non-null   object\n 1   AccessKey   5200 non-null   object\n 2   Topic       5200 non-null   object\n 3   Task        5200 non-null   object\n 4   ReviewText  5200 non-null   object\n 5   ReviewMeta  5200 non-null   object\ndtypes: object(6)\nmemory usage: 243.9+ KB\n"
    }
   ],
   "source": [
    "df.info()"
   ]
  },
  {
   "cell_type": "code",
   "execution_count": 70,
   "metadata": {},
   "outputs": [
    {
     "output_type": "execute_result",
     "data": {
      "text/plain": "                UserName                         AccessKey Topic    Task  \\\n0  A002160837SWJFPIAI7L7  392aa3e372054948a5cabd637b2e239b   AMT  copy_1   \n1  A002160837SWJFPIAI7L7  392aa3e372054948a5cabd637b2e239b   AMT  copy_2   \n2  A002160837SWJFPIAI7L7  392aa3e372054948a5cabd637b2e239b   AMT    fake   \n\n                                          ReviewText  \\\n0  Famous Daves is a good place to go for some go...   \n1  The Original Shrimp Place is a good place to c...   \n2  The Original Shrimp Place is a good place to c...   \n\n                                          ReviewMeta  \n0  0 MouseUp 0 0;535 KeyDown 16;776 KeyDown 70;79...  \n1  0 MouseUp 0 0;491 KeyDown 16;778 KeyDown 84;82...  \n2  0 MouseUp 0 0;849 KeyDown 16;966 KeyDown 84;10...  ",
      "text/html": "<div>\n<style scoped>\n    .dataframe tbody tr th:only-of-type {\n        vertical-align: middle;\n    }\n\n    .dataframe tbody tr th {\n        vertical-align: top;\n    }\n\n    .dataframe thead th {\n        text-align: right;\n    }\n</style>\n<table border=\"1\" class=\"dataframe\">\n  <thead>\n    <tr style=\"text-align: right;\">\n      <th></th>\n      <th>UserName</th>\n      <th>AccessKey</th>\n      <th>Topic</th>\n      <th>Task</th>\n      <th>ReviewText</th>\n      <th>ReviewMeta</th>\n    </tr>\n  </thead>\n  <tbody>\n    <tr>\n      <th>0</th>\n      <td>A002160837SWJFPIAI7L7</td>\n      <td>392aa3e372054948a5cabd637b2e239b</td>\n      <td>AMT</td>\n      <td>copy_1</td>\n      <td>Famous Daves is a good place to go for some go...</td>\n      <td>0 MouseUp 0 0;535 KeyDown 16;776 KeyDown 70;79...</td>\n    </tr>\n    <tr>\n      <th>1</th>\n      <td>A002160837SWJFPIAI7L7</td>\n      <td>392aa3e372054948a5cabd637b2e239b</td>\n      <td>AMT</td>\n      <td>copy_2</td>\n      <td>The Original Shrimp Place is a good place to c...</td>\n      <td>0 MouseUp 0 0;491 KeyDown 16;778 KeyDown 84;82...</td>\n    </tr>\n    <tr>\n      <th>2</th>\n      <td>A002160837SWJFPIAI7L7</td>\n      <td>392aa3e372054948a5cabd637b2e239b</td>\n      <td>AMT</td>\n      <td>fake</td>\n      <td>The Original Shrimp Place is a good place to c...</td>\n      <td>0 MouseUp 0 0;849 KeyDown 16;966 KeyDown 84;10...</td>\n    </tr>\n  </tbody>\n</table>\n</div>"
     },
     "metadata": {},
     "execution_count": 70
    }
   ],
   "source": [
    "df.head(3)"
   ]
  },
  {
   "cell_type": "code",
   "execution_count": 6,
   "metadata": {},
   "outputs": [
    {
     "output_type": "execute_result",
     "data": {
      "text/plain": "                                          ReviewText  \\\n0  Linear algebra is central to almost all areas ...   \n1  Linear algebra is central to almost all areas ...   \n2  Linear algebra is central to almost all areas ...   \n\n                                          ReviewMeta  \\\n0  1582990688239 KeyDown 16;1582990688600 KeyDown...   \n1  1582996141506 KeyDown 16;1582996141595 KeyDown...   \n2  1582996489340 KeyDown 16;1582996489541 KeyDown...   \n\n                              AccessKey                              UserName  \\\n0  9d891be4-e43e-49f9-88bb-25314e670850  9d891be4-e43e-49f9-88bb-25314e670850   \n1  9d891be4-e43e-49f9-88bb-25314e670850  9d891be4-e43e-49f9-88bb-25314e670850   \n2  97fc22cf-aa61-4dcf-91a8-97d8fbf4a983  97fc22cf-aa61-4dcf-91a8-97d8fbf4a983   \n\n     Task Topic  \n0  copy_1    LA  \n1  copy_2    LA  \n2  copy_1    LA  ",
      "text/html": "<div>\n<style scoped>\n    .dataframe tbody tr th:only-of-type {\n        vertical-align: middle;\n    }\n\n    .dataframe tbody tr th {\n        vertical-align: top;\n    }\n\n    .dataframe thead th {\n        text-align: right;\n    }\n</style>\n<table border=\"1\" class=\"dataframe\">\n  <thead>\n    <tr style=\"text-align: right;\">\n      <th></th>\n      <th>ReviewText</th>\n      <th>ReviewMeta</th>\n      <th>AccessKey</th>\n      <th>UserName</th>\n      <th>Task</th>\n      <th>Topic</th>\n    </tr>\n  </thead>\n  <tbody>\n    <tr>\n      <th>0</th>\n      <td>Linear algebra is central to almost all areas ...</td>\n      <td>1582990688239 KeyDown 16;1582990688600 KeyDown...</td>\n      <td>9d891be4-e43e-49f9-88bb-25314e670850</td>\n      <td>9d891be4-e43e-49f9-88bb-25314e670850</td>\n      <td>copy_1</td>\n      <td>LA</td>\n    </tr>\n    <tr>\n      <th>1</th>\n      <td>Linear algebra is central to almost all areas ...</td>\n      <td>1582996141506 KeyDown 16;1582996141595 KeyDown...</td>\n      <td>9d891be4-e43e-49f9-88bb-25314e670850</td>\n      <td>9d891be4-e43e-49f9-88bb-25314e670850</td>\n      <td>copy_2</td>\n      <td>LA</td>\n    </tr>\n    <tr>\n      <th>2</th>\n      <td>Linear algebra is central to almost all areas ...</td>\n      <td>1582996489340 KeyDown 16;1582996489541 KeyDown...</td>\n      <td>97fc22cf-aa61-4dcf-91a8-97d8fbf4a983</td>\n      <td>97fc22cf-aa61-4dcf-91a8-97d8fbf4a983</td>\n      <td>copy_1</td>\n      <td>LA</td>\n    </tr>\n  </tbody>\n</table>\n</div>"
     },
     "metadata": {},
     "execution_count": 6
    }
   ],
   "source": [
    "def read_group_sessions(name='data/keystroke_sessions-2020-03-20.csv'):\n",
    "    _a = pd.read_csv(name)\n",
    "    # _a.rename(columns={\"AccessKey\": \"UserName\", }\n",
    "    _a['UserName'] = _a['AccessKey']\n",
    "    _a.drop(columns=['attempt_id', 'ReviewDate'], inplace=True)\n",
    "    _a['Task'] = ''\n",
    "    _a['Topic'] = 'LA'\n",
    "    attempts = {}\n",
    "    for i, row in _a.iterrows():\n",
    "        key = row['UserName']\n",
    "        if key not in attempts: attempts[key] = 0\n",
    "        attempts[key] += 1\n",
    "        _a.loc[i, 'Task'] = f\"copy_{attempts[key]}\"\n",
    "\n",
    "    return _a\n",
    "\n",
    "def add_text_length_column(df):\n",
    "    df['TextLenght'] = df.apply(lambda x: len(x['ReviewText'].split()), axis = 1)\n",
    "\n",
    "df_sessions = read_group_sessions()\n",
    "df_sessions.head(3)"
   ]
  },
  {
   "cell_type": "code",
   "execution_count": 7,
   "metadata": {},
   "outputs": [],
   "source": [
    "def process_keystroke(line):\n",
    "    res = line.split(' ')\n",
    "    if len(res) > 3:\n",
    "        return f'UNKNOWN: {line}'\n",
    "    \n",
    "    time, command, key = res\n",
    "    return (time, command, key, chr(int(key)))\n",
    "\n",
    "def code_to_str(keycode):\n",
    "    keycode = int(keycode)\n",
    "    mappings = {\n",
    "        16: 'shift',\n",
    "        8: 'backspace',\n",
    "        32: 'space',\n",
    "        188: 'comma',\n",
    "        190: 'dot'\n",
    "    }\n",
    "    return mappings.get(keycode, chr(keycode))"
   ]
  },
  {
   "cell_type": "code",
   "execution_count": 17,
   "metadata": {},
   "outputs": [],
   "source": [
    "from collections import deque \n",
    "\n",
    "def process_keystrokes(inputs, humanize=False, distinguish_shift=True, small_transitions=True):      \n",
    "    MOUSE_UP = 'MouseUp'\n",
    "    KEY_DOWN = 'KeyDown'\n",
    "    KEY_UP = 'KeyUp'\n",
    "    TRANSITION_2 = 'transition_2'\n",
    "    dwells = {}\n",
    "    transitions_1 = {}\n",
    "    transitions_2 = {}\n",
    "    key_downs = {}\n",
    "    keys_queue = deque([])\n",
    "    last_key_up = None\n",
    "\n",
    "    def correct_transitions():\n",
    "        if small_transitions:\n",
    "            return transitions_2\n",
    "        else:\n",
    "            return transitions_1\n",
    "    \n",
    "    def record_key(code1, code2, value, collection):\n",
    "        key = \"\"\n",
    "        if (16 in key_downs or last_key_up == 16) and code1 != 16 and distinguish_shift:\n",
    "            key = key + \"[shift]\"\n",
    "        if code2:\n",
    "            key = key + f\"{code1}_{code2}\"\n",
    "        else:\n",
    "            key = key + f\"{code1}\"\n",
    "\n",
    "        if key not in collection: \n",
    "            collection[key] = []\n",
    "        collection[key].append(value)\n",
    "\n",
    "    for keystroke in inputs.split(';'):\n",
    "        res = keystroke.split(' ')\n",
    "        \n",
    "        if len(res) < 3: continue  \n",
    "        if res[1] == 'MouseUp': continue\n",
    "\n",
    "        time, command, code = res\n",
    "        time = int(time)\n",
    "        code = int(code)\n",
    "        \n",
    "        if command == KEY_DOWN:\n",
    "            if keys_queue:\n",
    "                prev_code, prev_time_down, prev_time_up = keys_queue[0]\n",
    "\n",
    "                if prev_time_up: \n",
    "                    record_key(prev_code, code, time - prev_time_up, transitions_2)\n",
    "\n",
    "                record_key(prev_code, code, time - prev_time_down, transitions_1)\n",
    "            \n",
    "            key_downs[code] = time\n",
    "            keys_queue.appendleft([code, time, None])\n",
    "            \n",
    "        if command == KEY_UP:\n",
    "            following_key = None\n",
    "            for i_key in keys_queue:\n",
    "                if i_key[0] == code:\n",
    "                    i_key[2] = time\n",
    "                    record_key(code, None, time - i_key[1], dwells)\n",
    "                    \n",
    "                    if following_key and following_key[1] < i_key[2]:\n",
    "                        record_key(i_key[0], following_key[0], following_key[1] - i_key[2], transitions_2)\n",
    "                    break\n",
    "\n",
    "                following_key = i_key\n",
    "\n",
    "            if code in key_downs: del(key_downs[code])\n",
    "            last_key_up = code\n",
    "\n",
    "    if humanize:\n",
    "        new_dwells = {}\n",
    "        new_transitions = {}\n",
    "        shift_h = \"[shift]\"\n",
    "\n",
    "        for key, inputs in dwells.items():\n",
    "            prefix = \"\"\n",
    "            if shift_h in key:\n",
    "                key = key[7:]\n",
    "                prefix = shift_h\n",
    "            new_key = prefix + f\"{code_to_str(int(key))}\"\n",
    "            new_dwells[new_key] = sorted(inputs)\n",
    "\n",
    "        for key, inputs in correct_transitions().items():\n",
    "            try:\n",
    "                k1, k2 = key.split(\"_\")\n",
    "            except:\n",
    "                continue\n",
    "\n",
    "            prefix = \"\"\n",
    "            if shift_h in k1:\n",
    "                k1 = k1[7:]\n",
    "                prefix = shift_h\n",
    "\n",
    "            key = f\"{prefix}{code_to_str(int(k1))}_{code_to_str(int(k2))}\"\n",
    "            new_transitions[key] = sorted(inputs)\n",
    "\n",
    "        return new_dwells, new_transitions\n",
    "\n",
    "    return dwells, correct_transitions()\n",
    ""
   ]
  },
  {
   "cell_type": "code",
   "execution_count": 18,
   "metadata": {},
   "outputs": [
    {
     "output_type": "stream",
     "name": "stdout",
     "text": "{'A': [127, 151], '[shift]H': [135], '[shift]E': [152], '[shift]L': [110, 127], 'shift': [2600, 3400], '[shift]O': [159]}\n{'A_A': [633], 'A_shift': [592], '[shift]H_E': [632], '[shift]E_L': [345], '[shift]L_L': [178], 'shift_H': [-2895], '[shift]L_shift': [1968], 'shift_O': [-1879]}\n"
    }
   ],
   "source": [
    "ss = \"1583128026026 KeyDown 65;1583128026177 KeyUp 65;1583128026810 KeyDown 65;1583128026937 KeyUp 65;1583128027529 KeyDown 16;1583128028034 KeyDown 72;1583128028169 KeyUp 72;1583128028801 KeyDown 69;1583128028953 KeyUp 69;1583128029298 KeyDown 76;1583128029408 KeyUp 76;1583128029586 KeyDown 76;1583128029713 KeyUp 76;1583128030929 KeyUp 16;1583128031681 KeyDown 16;1583128032402 KeyDown 79;1583128032561 KeyUp 79;1583128034281 KeyUp 16\"\n",
    "\n",
    "dwells, transitions = process_keystrokes(ss, humanize=True, small_transitions=True)\n",
    "print(dwells)\n",
    "print(transitions)"
   ]
  },
  {
   "cell_type": "code",
   "execution_count": 33,
   "metadata": {},
   "outputs": [
    {
     "output_type": "stream",
     "name": "stdout",
     "text": "<class 'pandas.core.frame.DataFrame'>\nInt64Index: 3900 entries, 0 to 5199\nData columns (total 6 columns):\n #   Column      Non-Null Count  Dtype \n---  ------      --------------  ----- \n 0   UserName    3900 non-null   object\n 1   AccessKey   3900 non-null   object\n 2   Topic       3900 non-null   object\n 3   Task        3900 non-null   object\n 4   ReviewText  3900 non-null   object\n 5   ReviewMeta  3900 non-null   object\ndtypes: object(6)\nmemory usage: 213.3+ KB\n"
    }
   ],
   "source": [
    "from sklearn.model_selection import train_test_split\n",
    "\n",
    "# def split_datasets(df):\n",
    "#     df1 = df.loc[df['Task'] == 'copy_1']\n",
    "#     df1.drop_duplicates(subset =\"UserName\", keep = False, inplace = True) \n",
    "\n",
    "#     df2 = df.loc[df['Task'] == 'copy_2']\n",
    "#     df2.drop_duplicates(subset =\"UserName\", keep = False, inplace = True) \n",
    "\n",
    "#     train_X, val_X = train_test_split(df1, test_size=0.2, random_state=42)\n",
    "#     train_y = df2[df2['UserName'].isin(train_X['UserName'].tolist())]\n",
    "#     val_y = df2[df2['UserName'].isin(val_X['UserName'].tolist())]\n",
    "#     return train_X, val_X, train_y, val_y\n",
    "\n",
    "def split_datasets(df):\n",
    "    df_new = df.copy()\n",
    "    # df_new = df_new.drop_duplicates(subset =[\"UserName\", \"Task\"], keep = False, inplace = False) \n",
    "    # df1 = df_new.loc[df['Task'].isin(['copy_1', 'false', 'true', 'copy_3'])]\n",
    "    test_column = 'copy_2'\n",
    "    df1 = df_new.loc[df['Task'] != test_column]\n",
    "    df2 = df_new.loc[df['Task'] == test_column]\n",
    "    return df1, None, df2, None\n",
    "\n",
    "# df_train, df_val, train_y, val_y = split_datasets(concat_datasets((df, df_sessions)))\n",
    "df_train, df_val, train_y, val_y = split_datasets(df)\n",
    "df_train.info()"
   ]
  },
  {
   "cell_type": "code",
   "execution_count": 20,
   "metadata": {},
   "outputs": [
    {
     "output_type": "execute_result",
     "data": {
      "text/plain": "(14.4, 8.2365041127896, 67.84)"
     },
     "metadata": {},
     "execution_count": 20
    }
   ],
   "source": [
    "def timestamp_values(array, coef=1.5):\n",
    "    array = np.array(array)\n",
    "    q1 = np.quantile(array, 0.25)\n",
    "    q3 = np.quantile(array, 0.75)\n",
    "    iqr = q3 - q1\n",
    "    array = array[(array > (q1 - coef * iqr)) & (array < (q3 + coef * iqr))]\n",
    "    return array.mean(), np.median(array), array.std(), array.var()\n",
    "\n",
    "timestamp_values([1, 11, 23, 14, 23, 1111])"
   ]
  },
  {
   "cell_type": "markdown",
   "metadata": {},
   "source": [
    "# Hyperparameters"
   ]
  },
  {
   "cell_type": "code",
   "execution_count": 83,
   "metadata": {},
   "outputs": [],
   "source": [
    "FEATURES = ['space', 'E', 'T', 'A', 'O', 'backspace', 'N', 'I', 'S', 'R', 'H',\n",
    "       'backspace_backspace', 'L', 'E_space', 'D', 'space_T', 'U', 'C',\n",
    "       'space_A', 'T_H', 'S_space', 'M', 'shift', 'G', 'Y', 'T_space',\n",
    "       'F', 'H_E', 'W', 'P', 'D_space', 'A_N', 'I_N', 'R_E', 'N_space',\n",
    "       'Y_space', 'E_R', 'B', 'space_shift', 'space_I', 'space_O',\n",
    "       'space_W', 'V', 'dot', 'space_S', 'O_space', 'O_N', 'N_D', 'E_N',\n",
    "       'R_space', 'dot_space', 'A_T', 'O_U', 'T_O', 'space_C', 'I_T',\n",
    "       'space_B', 'A_R', 'E_S', 'H_A', 'I_S', 'V_E', 'comma', 'A_L',\n",
    "       'space_M', 'space_F', 'comma_space', 'R_I', 'O_R']\n",
    "    #    'space_backspace', 'L_E', 'S_T', 'N_T', 'N_G', 'space_P',\n",
    "    #    'space_H', 'S_E', 'T_I', 'A_space', 'M_E', 'space_G', 'T_E', 'E_D',\n",
    "    #    'F_space', 'L_space', 'E_A', 'K', 'A_S', 'B_E', 'M_A', 'L_L',\n",
    "    #    'G_space', '[shift]space', '[shift]I', 'space_R', 'space_D', 'U_N',\n",
    "    #    'O_F', 'H_O', 'H_I', 'C_O', 'shift_I', 'N_E', 'space_L', 'R_O',\n",
    "    #    'space_N', 'O_M', 'O_T', 'L_I', 'space_E', 'D_E', '[shift]T',\n",
    "    #    'N_S', 'I_C', 'C_E', 'L_Y', 'T_A', 'G_E', 'I_O', 'U_R', 'E_L',\n",
    "    #    'F_O', 'U_S', 'N_O', 'P_E', 'H_space', 'S_O', 'I_L', 'W_E',\n",
    "    #    'shift_T', 'C_H', 'C_A', 'P_L', 'U_L', 'E_T', 'W_A', 'A_Y', 'T_R',\n",
    "    #    'L_D', 'U_T', 'L_A', 'R_A', 'E_C', 'E_E', 'I_E', 'W_I',\n",
    "    #    '[shift]space_shift', 'backspace_space', 'G_U', 'W_H', 'S_H',\n",
    "    #    'A_V', 'A_C', 'E_backspace', 'O_O', 'space_space', 'O_P', 'R_Y',\n",
    "    #    'O_W', 'I_A', 'R_R', 'Þ', 'L_O', 'S_I', 'O_L', 'A_G', 'D_I', 'I_G',\n",
    "    #    'E_V', 'A_M', 'G_H', 'W_O', 'Y_O', 'M_O', 'backspace_shift', 'O_S',\n",
    "    #    'G_A', 'P_O', 'K_E', 'R_S', 'backspace_E', 'P_R', 'S_dot', 'E_dot',\n",
    "    #    'I_M', 'I_R', 'M_space', 'S_A', 'backspace_T', 'backspace_A', 'X',\n",
    "    #    'C_I', 'space_Y', 'E_Y', 'F_E', 'O_D', 'D_O', 'space_U', 'T_S',\n",
    "    #    'A_D']\n",
    "\n",
    "USE_TRANSITION_2 = True\n",
    "N_NEIGHBORS=1\n",
    "FEATURES_COUNTER = {}\n",
    "TRACK_FEATURES_COUNT = False\n",
    "NORMALIZATOR_COEF=1.5\n",
    "DISTINGUISH_SHIFT=True\n",
    "USE_MEAN = False \n",
    "USE_MEDIAN = True\n",
    "USE_STD = False\n",
    "USE_VARIANCE = True \n",
    "DIATANCE_MEASURE = 1 # 1 - manhattan, 2 - l2 norm\n",
    "NORMALIZATOR = timestamp_values"
   ]
  },
  {
   "cell_type": "code",
   "execution_count": 84,
   "metadata": {},
   "outputs": [],
   "source": [
    "def process_and_unite_keystrokes(\n",
    "    inputs, \n",
    "    humanize=True, \n",
    "    distinguish_shift=DISTINGUISH_SHIFT,\n",
    "    normalizator = timestamp_values,\n",
    "    transition_2=USE_TRANSITION_2): \n",
    "    a,b = process_keystrokes(inputs, humanize, distinguish_shift, small_transitions=transition_2)\n",
    "    raw_data = {**a , **b}\n",
    "    res = {}\n",
    "\n",
    "    for feature in FEATURES:\n",
    "        if feature in raw_data: \n",
    "            mean, median, std, var = normalizator(raw_data[feature], NORMALIZATOR_COEF)\n",
    "        else: \n",
    "            mean, median, std, var = None, None, None\n",
    "\n",
    "        if USE_MEAN: res[f\"{feature}_mean\"] = mean \n",
    "        if USE_STD: res[f\"{feature}_std\"] = std \n",
    "        if USE_VARIANCE: res[f\"{feature}_var\"] = var\n",
    "\n",
    "    if TRACK_FEATURES_COUNT:\n",
    "        # Save statistics of appearance of each key\n",
    "        for key, timestamps in raw_data.items():\n",
    "            if key not in FEATURES_COUNTER: FEATURES_COUNTER[key] = 0\n",
    "            FEATURES_COUNTER[key] += len(timestamps)\n",
    "\n",
    "    return res\n",
    "\n",
    "def mutate_dataset(df, \n",
    "    user_id_column = \"UserName\", \n",
    "    keystrokes_column=\"ReviewMeta\", \n",
    "    transition_2=False):\n",
    "    res = []\n",
    "    for index, inputs in df.iterrows():\n",
    "        data = process_and_unite_keystrokes(inputs[keystrokes_column], transition_2=transition_2)\n",
    "        res.append({'user_id': inputs[user_id_column], **data})\n",
    "    return pd.DataFrame(res)\n",
    "\n",
    "def standartize_dataset(res):\n",
    "    modifiers = {}\n",
    "    for column in res.columns.difference(['user_id']):\n",
    "        mean_v = res[column].mean()\n",
    "\n",
    "        # Fill n/a values with mean\n",
    "        res[column].fillna(mean_v, inplace=True)\n",
    "\n",
    "        min_v = res[column].min()\n",
    "        max_v = res[column].max()\n",
    "        res[column] = res[column].apply(lambda x: (x - min_v)/(max_v - min_v))\n",
    "\n",
    "        # Save modifiers so that they could be applied to \n",
    "        modifiers[column] = { 'mean': mean_v, 'min': min_v, 'max': max_v }\n",
    "\n",
    "    return res, modifiers\n",
    "\n",
    "def standartize_by_modifiers(res, modifiers): \n",
    "    for column in res.columns.difference(['user_id']):\n",
    "        # Fill n/a values with mean\n",
    "        res[column].fillna(modifiers[column]['mean'], inplace=True)\n",
    "\n",
    "        min_v = modifiers[column]['min']\n",
    "        max_v = modifiers[column]['max']\n",
    "        res[column] = res[column].apply(lambda x: (x - min_v)/(max_v - min_v))\n",
    "    return res"
   ]
  },
  {
   "cell_type": "code",
   "execution_count": 85,
   "metadata": {},
   "outputs": [
    {
     "output_type": "execute_result",
     "data": {
      "text/plain": "                 user_id  space_mean  space_var    E_mean     E_var    T_mean  \\\n0  A002160837SWJFPIAI7L7    0.458465   0.042748  0.588701  0.179517  0.709676   \n1   A0436270XG2E3RS5T61O    0.513768   0.166108  0.574113  0.214569  0.453232   \n2         A109TOWKB3DY3P    0.476610   0.079675  0.695715  0.355816  0.581422   \n\n      T_var    A_mean     A_var    O_mean  ...  space_M_mean  space_M_var  \\\n0  0.134136  0.524380  0.048061  0.447585  ...      0.036265     0.002914   \n1  0.078170  0.554512  0.000362  0.383063  ...      0.022318     0.000002   \n2  0.148354  0.580904  0.107484  0.499624  ...      0.036265     0.002914   \n\n   space_F_mean  space_F_var  comma_space_mean  comma_space_var  R_I_mean  \\\n0      0.015570     0.000065          0.017406     1.504645e-07  0.080258   \n1      0.019704     0.000082          0.009918     8.043518e-06  0.156625   \n2      0.017022     0.000026          0.012281     3.276783e-06  0.069987   \n\n    R_I_var  O_R_mean   O_R_var  \n0  0.000444  0.102123  0.000031  \n1  0.001436  0.122879  0.000676  \n2  0.000054  0.099498  0.000676  \n\n[3 rows x 139 columns]",
      "text/html": "<div>\n<style scoped>\n    .dataframe tbody tr th:only-of-type {\n        vertical-align: middle;\n    }\n\n    .dataframe tbody tr th {\n        vertical-align: top;\n    }\n\n    .dataframe thead th {\n        text-align: right;\n    }\n</style>\n<table border=\"1\" class=\"dataframe\">\n  <thead>\n    <tr style=\"text-align: right;\">\n      <th></th>\n      <th>user_id</th>\n      <th>space_mean</th>\n      <th>space_var</th>\n      <th>E_mean</th>\n      <th>E_var</th>\n      <th>T_mean</th>\n      <th>T_var</th>\n      <th>A_mean</th>\n      <th>A_var</th>\n      <th>O_mean</th>\n      <th>...</th>\n      <th>space_M_mean</th>\n      <th>space_M_var</th>\n      <th>space_F_mean</th>\n      <th>space_F_var</th>\n      <th>comma_space_mean</th>\n      <th>comma_space_var</th>\n      <th>R_I_mean</th>\n      <th>R_I_var</th>\n      <th>O_R_mean</th>\n      <th>O_R_var</th>\n    </tr>\n  </thead>\n  <tbody>\n    <tr>\n      <th>0</th>\n      <td>A002160837SWJFPIAI7L7</td>\n      <td>0.458465</td>\n      <td>0.042748</td>\n      <td>0.588701</td>\n      <td>0.179517</td>\n      <td>0.709676</td>\n      <td>0.134136</td>\n      <td>0.524380</td>\n      <td>0.048061</td>\n      <td>0.447585</td>\n      <td>...</td>\n      <td>0.036265</td>\n      <td>0.002914</td>\n      <td>0.015570</td>\n      <td>0.000065</td>\n      <td>0.017406</td>\n      <td>1.504645e-07</td>\n      <td>0.080258</td>\n      <td>0.000444</td>\n      <td>0.102123</td>\n      <td>0.000031</td>\n    </tr>\n    <tr>\n      <th>1</th>\n      <td>A0436270XG2E3RS5T61O</td>\n      <td>0.513768</td>\n      <td>0.166108</td>\n      <td>0.574113</td>\n      <td>0.214569</td>\n      <td>0.453232</td>\n      <td>0.078170</td>\n      <td>0.554512</td>\n      <td>0.000362</td>\n      <td>0.383063</td>\n      <td>...</td>\n      <td>0.022318</td>\n      <td>0.000002</td>\n      <td>0.019704</td>\n      <td>0.000082</td>\n      <td>0.009918</td>\n      <td>8.043518e-06</td>\n      <td>0.156625</td>\n      <td>0.001436</td>\n      <td>0.122879</td>\n      <td>0.000676</td>\n    </tr>\n    <tr>\n      <th>2</th>\n      <td>A109TOWKB3DY3P</td>\n      <td>0.476610</td>\n      <td>0.079675</td>\n      <td>0.695715</td>\n      <td>0.355816</td>\n      <td>0.581422</td>\n      <td>0.148354</td>\n      <td>0.580904</td>\n      <td>0.107484</td>\n      <td>0.499624</td>\n      <td>...</td>\n      <td>0.036265</td>\n      <td>0.002914</td>\n      <td>0.017022</td>\n      <td>0.000026</td>\n      <td>0.012281</td>\n      <td>3.276783e-06</td>\n      <td>0.069987</td>\n      <td>0.000054</td>\n      <td>0.099498</td>\n      <td>0.000676</td>\n    </tr>\n  </tbody>\n</table>\n<p>3 rows × 139 columns</p>\n</div>"
     },
     "metadata": {},
     "execution_count": 85
    }
   ],
   "source": [
    "df_train_new, modifiers = standartize_dataset(mutate_dataset(df_train, transition_2=USE_TRANSITION_2))\n",
    "train_y_new = standartize_by_modifiers(mutate_dataset(train_y, transition_2=USE_TRANSITION_2), modifiers)\n",
    "train_y_new.head(3)"
   ]
  },
  {
   "cell_type": "code",
   "execution_count": 86,
   "metadata": {},
   "outputs": [
    {
     "output_type": "stream",
     "name": "stdout",
     "text": "(3900, 139)\nKNN Score: 0.9553846153846154\n(3900, 44)\n(1300, 44)\nKNN+PCA Score: 0.8461538461538461\n"
    },
    {
     "output_type": "execute_result",
     "data": {
      "text/plain": "KNeighborsClassifier(algorithm='auto', leaf_size=30, metric='minkowski',\n                     metric_params=None, n_jobs=None, n_neighbors=1, p=1,\n                     weights='uniform')"
     },
     "metadata": {},
     "execution_count": 86
    }
   ],
   "source": [
    "from sklearn.neighbors import KNeighborsClassifier\n",
    "from sklearn.decomposition import PCA\n",
    "\n",
    "def knn_model(df, df_new, y_column): \n",
    "    knn = KNeighborsClassifier(n_neighbors=N_NEIGHBORS, p=DIATANCE_MEASURE)\n",
    "    knn.fit(df[df.columns.difference([y_column])], df[y_column])\n",
    "    score = knn.score(df_new[df_new.columns.difference([y_column])], df_new[y_column])\n",
    "    print(df.shape)\n",
    "    print(f\"KNN Score: {score}\")\n",
    "    return knn\n",
    "\n",
    "def knn_pca_model(df, df_new, y_column):\n",
    "    train_data = df[df.columns.difference([y_column])]\n",
    "    test_data = df_new[df_new.columns.difference([y_column])]\n",
    "    pca = PCA(n_components = 0.9).fit(train_data)\n",
    "    print(pca.transform(train_data).shape)\n",
    "\n",
    "    knn = KNeighborsClassifier(n_neighbors=N_NEIGHBORS, p=DIATANCE_MEASURE)\n",
    "    knn.fit(pca.transform(train_data), df[y_column])\n",
    "\n",
    "    print(pca.transform(test_data).shape)\n",
    "    score = knn.score(pca.transform(test_data), df_new[y_column])\n",
    "    print(f\"KNN+PCA Score: {score}\")\n",
    "    return knn, pca\n",
    "\n",
    "knn = knn_model(df_train_new, train_y_new, y_column='user_id')\n",
    "knn_pca, pca = knn_pca_model(df_train_new, train_y_new, y_column='user_id')\n",
    "knn"
   ]
  },
  {
   "cell_type": "code",
   "execution_count": 82,
   "metadata": {},
   "outputs": [],
   "source": [
    "res = knn.predict(train_y_new[train_y_new.columns.difference(['user_id'])])\n",
    "# _rev = train_y_new.copy() \n",
    "# _rev['predicted_user_id'] = res"
   ]
  },
  {
   "cell_type": "code",
   "execution_count": 89,
   "metadata": {},
   "outputs": [
    {
     "output_type": "execute_result",
     "data": {
      "text/plain": "3.0"
     },
     "metadata": {},
     "execution_count": 89
    }
   ],
   "source": [
    "np.median(np.array([1,2,3,4,5]))"
   ]
  },
  {
   "cell_type": "code",
   "execution_count": 145,
   "metadata": {},
   "outputs": [
    {
     "output_type": "execute_result",
     "data": {
      "text/plain": "5                             A10T740JW5MQDA\n13                            A12E72AAMBWN9O\n39                            A19M5ECA9D9H80\n41                            A1AK0C9AYPTABN\n42                             A1B7O88JBR3NU\n44                            A1BDBKDS7F7OMW\n46                            A1BSALLPX6MSI4\n53                            A1CY5KVC753NQ9\n60                            A1FSSSGYX9OZS2\n89                            A1NM7ZPZ3NH412\n91                            A1NW8TTOYMEJEP\n92                            A1OB960PNAUAAS\n93                            A1OEHMFL5A0G29\n104                           A1SGSI91JYSV9Q\n115                           A1TU5JYP6K71GZ\n120                           A1UPWRVJKFV8EH\n126                           A1W6X3VNHHVIND\n130                           A1XD70FK0LGCYZ\n148                           A21EPR8KW0GWX2\n154                           A231ZXYHPSNUJQ\n159                           A246AT3K8XQZ0N\n167                           A261I77RAWTJM4\n176                           A28M2RVUTQO891\n206                           A2EQOFJNKS7RCN\n208                           A2F3ZR1HIX7WX3\n212                           A2GXD2V6YEL7OA\n217                           A2H9HL8YOPSMYR\n219                           A2I1X1A2N4G3TO\n220                           A2J7G90B7E39ME\n225                           A2JRENREH72502\n244                            A2OZGNW6THEMJ\n254                           A2S16E0HN8A3N7\n262                           A2ULGS0MNR975M\n272                           A2X1LQ0SWMZCDI\n291                           A33MLL0V5UMSCC\n298                           A34V3N0B4C3BMF\n299                           A35DSHKI68VP6V\n306                           A379ZZ5NWGWJKS\n320                           A3A4ELRGUYNNS8\n327                           A3BXKJG15LVQTV\n340                           A3FSI6EIB1M6YR\n348                            A3JVKK8BGIZ1K\n365                           A3QJ0OWM954E76\n367                           A3QS0S6B9P169W\n384                            A3VIYM4NN0SSL\n387                            A47NS9NARXRKS\n395                            A5LLSZG8YCAZF\n404                            A95RJNEL7V13M\n417                            ABVBWRI4D5O36\n442                            AHYJONIS0LE1X\n450                            AK0RQYEM2D0AY\n452                            AL34WN7X302EF\n458                            AMK0Y4BKU4EJE\n469                            AQW8DPB4P4XFN\n470                            ARVFVY7B3KGRY\n471                            ARYH49BS0B1RS\n481                            AV472ZALVT6WS\n484                            AVOF14300525D\n488                            AWYT0RI8P4YK0\n497                            AZTHBV93S8U3T\n499                            acxngm3s98ttf\n508                           A1FHLN84WI0N31\n512                           A1LTLK14NRF7VG\n516                           A1QHTMMXFNYJYU\n534                           A2FY1GL04ZI859\n558                           A3BXKJG15LVQTV\n560                           A3C2TSXWDYBZHA\n573                           A3QS0S6B9P169W\n598                            AZUFXOGS583TO\n624                           A20IF612YY351J\n635                           A2HR27LMSYOEH3\n639                           A2MSVKXC1F3WIU\n672                           A3PRQ2GSU42718\n733                           A2EML740M3OWA9\n759                           A3CXYVPO1IFDZI\n767                           A3KZZZE977EE65\n779                            A481HCC60DV7K\n800                         ?A1OLRUT93TXWEP?\n807                           A15S8DPIZ915JA\n814                           A1GFLU1X1ZIIRI\n847                           A30X2THN9JDWYF\n860                           A3KFXPAE40VKWY\n869                           A3TRTU5C4GDH6O\n881                            ADI3KIOE5MMNX\n921                           A1TNED9R7PWEKG\n935                           A27RHMZ009MD4M\n941                           A2KT91ZJC2ENH4\n950                           A2Z8SR1UU09HO5\n953                           A34P5NWNC6MZNO\n987                            ANW7R2VV3V630\n992                            ASLCXPPN9SV69\n993                            ASSVV3K7SV9JT\n1010                          A1JJ5AU2093QYE\n1025                          A21GQC29SYGVL1\n1058                          A31AG5Q0S5OI5V\n1071                          A3K7EUNGDPUFGW\n1073                          A3PDOZ6I8PE9ZK\n1095                           AU7V52XJGL5C4\n1107                          A1B4HMTVYKMJ2U\n1116                          A1FHLN84WI0N31\n1161                          A35DSHKI68VP6V\n1179                           ACFBUSLSNUGRU\n1211                          A1A5PM554V2L19\n1215                          A1GFLU1X1ZIIRI\n1218                          A1HJ8KQ2SO61YW\n1234                          A24NCF4KFZQHL0\n1240                          A2EML740M3OWA9\n1243                          A2PAO2ENJ5XY1T\n1260                          A3ES3R45N43ZSX\n1272                          A3S3D4TI6N8873\n1290                           APQ5FYQDBUVPZ\n1308    efd01132-1526-496b-a3ed-c55e50e785dd\nName: user_id, dtype: object"
     },
     "metadata": {},
     "execution_count": 145
    }
   ],
   "source": [
    "pd.set_option('display.max_rows', 200)\n",
    "_rev[_rev.user_id != _rev.predicted_user_id]['user_id']"
   ]
  },
  {
   "cell_type": "code",
   "execution_count": 120,
   "metadata": {},
   "outputs": [
    {
     "output_type": "execute_result",
     "data": {
      "text/plain": "1071"
     },
     "metadata": {},
     "execution_count": 120
    }
   ],
   "source": [
    "len(train_y_new.user_id.unique())"
   ]
  },
  {
   "cell_type": "code",
   "execution_count": 66,
   "metadata": {
    "tags": [
     "outputPrepend",
     "outputPrepend",
     "outputPrepend"
    ]
   },
   "outputs": [
    {
     "output_type": "execute_result",
     "data": {
      "text/plain": "                     key  counter\n7                  space   732654\n10                     E   414639\n18                     T   294429\n2                      A   281650\n4                      O   259535\n16             backspace   256135\n27                     N   225813\n11                     I   225102\n6                      S   207979\n20                     R   197536\n26                     H   160074\n90   backspace_backspace   149444\n15                     L   144479\n68               E_space   136304\n13                     D   115111\n69               space_T   101323\n5                      U    98828\n17                     C    88252\n54               space_A    87095\n97                   T_H    85630\n45               S_space    80739\n3                      M    80276\n0                  shift    80207\n12                     G    77580\n22                     Y    72960\n110              T_space    72696\n19                     F    68580\n96                   H_E    67730\n31                     W    63458\n14                     P    62548\n60               D_space    60547\n102                  A_N    53971\n223                  I_N    49929\n177                  R_E    49926\n103              N_space    49491\n88               Y_space    47934\n183                  E_R    47136\n28                     B    46953\n46           space_shift    44976\n52               space_I    44555\n111              space_O    41692\n227              space_W    40854\n9                      V    40685\n23                   dot    40680\n76               space_S    40202\n71               O_space    39709\n218                  O_N    36889\n148                  N_D    36051\n108                  E_N    34066\n75               R_space    33913\n93             dot_space    33235\n176                  A_T    32887\n43                   O_U    32719\n70                   T_O    31466\n136              space_C    30935\n86                   I_T    30780\n114              space_B    30683\n116                  A_R    30478\n51                   E_S    30058\n101                  H_A    29989\n53                   I_S    29556\n50                   V_E    29426\n29                 comma    28580\n154                  A_L    28340\n247              space_M    28113\n72               space_F    27270\n135          comma_space    27267\n131                  R_I    25717\n74                   O_R    25636\n128      space_backspace    25451\n202                  L_E    24538\n149                  S_T    24512\n109                  N_T    24231\n224                  N_G    24155\n61               space_P    23791\n156              space_H    23485\n315                  S_E    23456\n186                  T_I    22809\n55               A_space    22765\n79                   M_E    22564\n56               space_G    22429\n150                  T_E    22231\n122                  E_D    21467\n113              F_space    21412\n268              L_space    20845\n151                  E_A    20806\n30                     K    20538\n104                  A_S    20202\n118                  B_E    19735\n417                  M_A    19259\n267                  L_L    18682\n225              G_space    18482\n24          [shift]space    18271\n34              [shift]I    18112\n130              space_R    17863\n167              space_D    17766\n359                  U_N    17623\n112                  O_F    17541\n312                  H_O    17402\n137                  H_I    17199\n193                  C_O    16939\n263              shift_I    16637\n190                  N_E    16041\n157              space_L    15794\n198                  R_O    15393\n181              space_N    15287\n78                   O_M    15182\n222                  O_T    15160\n85                   L_I    15066\n203              space_E    15014\n165                  D_E    14796\n32              [shift]T    14641\n343                  N_S    14637\n334                  I_C    14594\n67                   C_E    14234\n328                  L_Y    14132\n173                  T_A    13849\n159                  G_E    13736\n162                  I_O    13561\n179                  U_R    13463\n316                  E_L    13350\n73                   F_O    13243\n44                   U_S    13170\n221                  N_O    13154\n281                  P_E    13012\n126              H_space    12967\n77                   S_O    12855\n345                  I_L    12843\n502                  W_E    12834\n95               shift_T    12787\n125                  C_H    12664\n427                  C_A    12592\n62                   P_L    12091\n413                  U_L    11804\n428                  E_T    11758\n235                  W_A    11240\n420                  A_Y    11094\n253                  T_R    10941\n341                  L_D    10913\n244                  U_T    10893\n65                   L_A    10848\n180                  R_A    10834\n119                  E_C    10779\n191                  E_E    10658\n282                  I_E    10497\n348                  W_I    10278\n94    [shift]space_shift    10184\n166      backspace_space     9999\n690                  G_U     9948\n337                  W_H     9937\n169                  S_H     9778\n49                   A_V     9716\n66                   A_C     9682\n229          E_backspace     9676\n58                   O_O     9649\n600          space_space     9627\n365                  O_P     9599\n184                  R_Y     9184\n240                  O_W     9178\n407                  I_A     9077\n648                  R_R     9049\n486                    Þ     8834\n266                  L_O     8808\n163                  S_I     8669\n454                  O_L     8559\n360                  A_G     8484\n168                  D_I     8423\n252                  I_G     8340\n204                  E_V     8326\n41                   A_M     8226\n314                  G_H     8169\n412                  W_O     8046\n189                  Y_O     8008\n42                   M_O     7932\n172      backspace_shift     7916\n329                  O_S     7866\n577                  G_A     7830\n524                  P_O     7819\n142                  K_E     7721\n236                  R_S     7706\n145          backspace_E     7642\n430                  P_R     7526\n170                S_dot     7455\n284                E_dot     7451\n262                  I_M     7342\n246                  I_R     7299\n418              M_space     7290\n278                  S_A     7241\n382          backspace_T     7156\n237          backspace_A     7118\n38                     X     7110\n255                  C_I     7097\n188              space_Y     7060\n98                   E_Y     7027\n591                  F_E     6972\n59                   O_D     6796\n195                  D_O     6755\n213              space_U     6729\n265                  T_S     6694\n194                  A_D     6671",
      "text/html": "<div>\n<style scoped>\n    .dataframe tbody tr th:only-of-type {\n        vertical-align: middle;\n    }\n\n    .dataframe tbody tr th {\n        vertical-align: top;\n    }\n\n    .dataframe thead th {\n        text-align: right;\n    }\n</style>\n<table border=\"1\" class=\"dataframe\">\n  <thead>\n    <tr style=\"text-align: right;\">\n      <th></th>\n      <th>key</th>\n      <th>counter</th>\n    </tr>\n  </thead>\n  <tbody>\n    <tr>\n      <th>7</th>\n      <td>space</td>\n      <td>732654</td>\n    </tr>\n    <tr>\n      <th>10</th>\n      <td>E</td>\n      <td>414639</td>\n    </tr>\n    <tr>\n      <th>18</th>\n      <td>T</td>\n      <td>294429</td>\n    </tr>\n    <tr>\n      <th>2</th>\n      <td>A</td>\n      <td>281650</td>\n    </tr>\n    <tr>\n      <th>4</th>\n      <td>O</td>\n      <td>259535</td>\n    </tr>\n    <tr>\n      <th>16</th>\n      <td>backspace</td>\n      <td>256135</td>\n    </tr>\n    <tr>\n      <th>27</th>\n      <td>N</td>\n      <td>225813</td>\n    </tr>\n    <tr>\n      <th>11</th>\n      <td>I</td>\n      <td>225102</td>\n    </tr>\n    <tr>\n      <th>6</th>\n      <td>S</td>\n      <td>207979</td>\n    </tr>\n    <tr>\n      <th>20</th>\n      <td>R</td>\n      <td>197536</td>\n    </tr>\n    <tr>\n      <th>26</th>\n      <td>H</td>\n      <td>160074</td>\n    </tr>\n    <tr>\n      <th>90</th>\n      <td>backspace_backspace</td>\n      <td>149444</td>\n    </tr>\n    <tr>\n      <th>15</th>\n      <td>L</td>\n      <td>144479</td>\n    </tr>\n    <tr>\n      <th>68</th>\n      <td>E_space</td>\n      <td>136304</td>\n    </tr>\n    <tr>\n      <th>13</th>\n      <td>D</td>\n      <td>115111</td>\n    </tr>\n    <tr>\n      <th>69</th>\n      <td>space_T</td>\n      <td>101323</td>\n    </tr>\n    <tr>\n      <th>5</th>\n      <td>U</td>\n      <td>98828</td>\n    </tr>\n    <tr>\n      <th>17</th>\n      <td>C</td>\n      <td>88252</td>\n    </tr>\n    <tr>\n      <th>54</th>\n      <td>space_A</td>\n      <td>87095</td>\n    </tr>\n    <tr>\n      <th>97</th>\n      <td>T_H</td>\n      <td>85630</td>\n    </tr>\n    <tr>\n      <th>45</th>\n      <td>S_space</td>\n      <td>80739</td>\n    </tr>\n    <tr>\n      <th>3</th>\n      <td>M</td>\n      <td>80276</td>\n    </tr>\n    <tr>\n      <th>0</th>\n      <td>shift</td>\n      <td>80207</td>\n    </tr>\n    <tr>\n      <th>12</th>\n      <td>G</td>\n      <td>77580</td>\n    </tr>\n    <tr>\n      <th>22</th>\n      <td>Y</td>\n      <td>72960</td>\n    </tr>\n    <tr>\n      <th>110</th>\n      <td>T_space</td>\n      <td>72696</td>\n    </tr>\n    <tr>\n      <th>19</th>\n      <td>F</td>\n      <td>68580</td>\n    </tr>\n    <tr>\n      <th>96</th>\n      <td>H_E</td>\n      <td>67730</td>\n    </tr>\n    <tr>\n      <th>31</th>\n      <td>W</td>\n      <td>63458</td>\n    </tr>\n    <tr>\n      <th>14</th>\n      <td>P</td>\n      <td>62548</td>\n    </tr>\n    <tr>\n      <th>60</th>\n      <td>D_space</td>\n      <td>60547</td>\n    </tr>\n    <tr>\n      <th>102</th>\n      <td>A_N</td>\n      <td>53971</td>\n    </tr>\n    <tr>\n      <th>223</th>\n      <td>I_N</td>\n      <td>49929</td>\n    </tr>\n    <tr>\n      <th>177</th>\n      <td>R_E</td>\n      <td>49926</td>\n    </tr>\n    <tr>\n      <th>103</th>\n      <td>N_space</td>\n      <td>49491</td>\n    </tr>\n    <tr>\n      <th>88</th>\n      <td>Y_space</td>\n      <td>47934</td>\n    </tr>\n    <tr>\n      <th>183</th>\n      <td>E_R</td>\n      <td>47136</td>\n    </tr>\n    <tr>\n      <th>28</th>\n      <td>B</td>\n      <td>46953</td>\n    </tr>\n    <tr>\n      <th>46</th>\n      <td>space_shift</td>\n      <td>44976</td>\n    </tr>\n    <tr>\n      <th>52</th>\n      <td>space_I</td>\n      <td>44555</td>\n    </tr>\n    <tr>\n      <th>111</th>\n      <td>space_O</td>\n      <td>41692</td>\n    </tr>\n    <tr>\n      <th>227</th>\n      <td>space_W</td>\n      <td>40854</td>\n    </tr>\n    <tr>\n      <th>9</th>\n      <td>V</td>\n      <td>40685</td>\n    </tr>\n    <tr>\n      <th>23</th>\n      <td>dot</td>\n      <td>40680</td>\n    </tr>\n    <tr>\n      <th>76</th>\n      <td>space_S</td>\n      <td>40202</td>\n    </tr>\n    <tr>\n      <th>71</th>\n      <td>O_space</td>\n      <td>39709</td>\n    </tr>\n    <tr>\n      <th>218</th>\n      <td>O_N</td>\n      <td>36889</td>\n    </tr>\n    <tr>\n      <th>148</th>\n      <td>N_D</td>\n      <td>36051</td>\n    </tr>\n    <tr>\n      <th>108</th>\n      <td>E_N</td>\n      <td>34066</td>\n    </tr>\n    <tr>\n      <th>75</th>\n      <td>R_space</td>\n      <td>33913</td>\n    </tr>\n    <tr>\n      <th>93</th>\n      <td>dot_space</td>\n      <td>33235</td>\n    </tr>\n    <tr>\n      <th>176</th>\n      <td>A_T</td>\n      <td>32887</td>\n    </tr>\n    <tr>\n      <th>43</th>\n      <td>O_U</td>\n      <td>32719</td>\n    </tr>\n    <tr>\n      <th>70</th>\n      <td>T_O</td>\n      <td>31466</td>\n    </tr>\n    <tr>\n      <th>136</th>\n      <td>space_C</td>\n      <td>30935</td>\n    </tr>\n    <tr>\n      <th>86</th>\n      <td>I_T</td>\n      <td>30780</td>\n    </tr>\n    <tr>\n      <th>114</th>\n      <td>space_B</td>\n      <td>30683</td>\n    </tr>\n    <tr>\n      <th>116</th>\n      <td>A_R</td>\n      <td>30478</td>\n    </tr>\n    <tr>\n      <th>51</th>\n      <td>E_S</td>\n      <td>30058</td>\n    </tr>\n    <tr>\n      <th>101</th>\n      <td>H_A</td>\n      <td>29989</td>\n    </tr>\n    <tr>\n      <th>53</th>\n      <td>I_S</td>\n      <td>29556</td>\n    </tr>\n    <tr>\n      <th>50</th>\n      <td>V_E</td>\n      <td>29426</td>\n    </tr>\n    <tr>\n      <th>29</th>\n      <td>comma</td>\n      <td>28580</td>\n    </tr>\n    <tr>\n      <th>154</th>\n      <td>A_L</td>\n      <td>28340</td>\n    </tr>\n    <tr>\n      <th>247</th>\n      <td>space_M</td>\n      <td>28113</td>\n    </tr>\n    <tr>\n      <th>72</th>\n      <td>space_F</td>\n      <td>27270</td>\n    </tr>\n    <tr>\n      <th>135</th>\n      <td>comma_space</td>\n      <td>27267</td>\n    </tr>\n    <tr>\n      <th>131</th>\n      <td>R_I</td>\n      <td>25717</td>\n    </tr>\n    <tr>\n      <th>74</th>\n      <td>O_R</td>\n      <td>25636</td>\n    </tr>\n    <tr>\n      <th>128</th>\n      <td>space_backspace</td>\n      <td>25451</td>\n    </tr>\n    <tr>\n      <th>202</th>\n      <td>L_E</td>\n      <td>24538</td>\n    </tr>\n    <tr>\n      <th>149</th>\n      <td>S_T</td>\n      <td>24512</td>\n    </tr>\n    <tr>\n      <th>109</th>\n      <td>N_T</td>\n      <td>24231</td>\n    </tr>\n    <tr>\n      <th>224</th>\n      <td>N_G</td>\n      <td>24155</td>\n    </tr>\n    <tr>\n      <th>61</th>\n      <td>space_P</td>\n      <td>23791</td>\n    </tr>\n    <tr>\n      <th>156</th>\n      <td>space_H</td>\n      <td>23485</td>\n    </tr>\n    <tr>\n      <th>315</th>\n      <td>S_E</td>\n      <td>23456</td>\n    </tr>\n    <tr>\n      <th>186</th>\n      <td>T_I</td>\n      <td>22809</td>\n    </tr>\n    <tr>\n      <th>55</th>\n      <td>A_space</td>\n      <td>22765</td>\n    </tr>\n    <tr>\n      <th>79</th>\n      <td>M_E</td>\n      <td>22564</td>\n    </tr>\n    <tr>\n      <th>56</th>\n      <td>space_G</td>\n      <td>22429</td>\n    </tr>\n    <tr>\n      <th>150</th>\n      <td>T_E</td>\n      <td>22231</td>\n    </tr>\n    <tr>\n      <th>122</th>\n      <td>E_D</td>\n      <td>21467</td>\n    </tr>\n    <tr>\n      <th>113</th>\n      <td>F_space</td>\n      <td>21412</td>\n    </tr>\n    <tr>\n      <th>268</th>\n      <td>L_space</td>\n      <td>20845</td>\n    </tr>\n    <tr>\n      <th>151</th>\n      <td>E_A</td>\n      <td>20806</td>\n    </tr>\n    <tr>\n      <th>30</th>\n      <td>K</td>\n      <td>20538</td>\n    </tr>\n    <tr>\n      <th>104</th>\n      <td>A_S</td>\n      <td>20202</td>\n    </tr>\n    <tr>\n      <th>118</th>\n      <td>B_E</td>\n      <td>19735</td>\n    </tr>\n    <tr>\n      <th>417</th>\n      <td>M_A</td>\n      <td>19259</td>\n    </tr>\n    <tr>\n      <th>267</th>\n      <td>L_L</td>\n      <td>18682</td>\n    </tr>\n    <tr>\n      <th>225</th>\n      <td>G_space</td>\n      <td>18482</td>\n    </tr>\n    <tr>\n      <th>24</th>\n      <td>[shift]space</td>\n      <td>18271</td>\n    </tr>\n    <tr>\n      <th>34</th>\n      <td>[shift]I</td>\n      <td>18112</td>\n    </tr>\n    <tr>\n      <th>130</th>\n      <td>space_R</td>\n      <td>17863</td>\n    </tr>\n    <tr>\n      <th>167</th>\n      <td>space_D</td>\n      <td>17766</td>\n    </tr>\n    <tr>\n      <th>359</th>\n      <td>U_N</td>\n      <td>17623</td>\n    </tr>\n    <tr>\n      <th>112</th>\n      <td>O_F</td>\n      <td>17541</td>\n    </tr>\n    <tr>\n      <th>312</th>\n      <td>H_O</td>\n      <td>17402</td>\n    </tr>\n    <tr>\n      <th>137</th>\n      <td>H_I</td>\n      <td>17199</td>\n    </tr>\n    <tr>\n      <th>193</th>\n      <td>C_O</td>\n      <td>16939</td>\n    </tr>\n    <tr>\n      <th>263</th>\n      <td>shift_I</td>\n      <td>16637</td>\n    </tr>\n    <tr>\n      <th>190</th>\n      <td>N_E</td>\n      <td>16041</td>\n    </tr>\n    <tr>\n      <th>157</th>\n      <td>space_L</td>\n      <td>15794</td>\n    </tr>\n    <tr>\n      <th>198</th>\n      <td>R_O</td>\n      <td>15393</td>\n    </tr>\n    <tr>\n      <th>181</th>\n      <td>space_N</td>\n      <td>15287</td>\n    </tr>\n    <tr>\n      <th>78</th>\n      <td>O_M</td>\n      <td>15182</td>\n    </tr>\n    <tr>\n      <th>222</th>\n      <td>O_T</td>\n      <td>15160</td>\n    </tr>\n    <tr>\n      <th>85</th>\n      <td>L_I</td>\n      <td>15066</td>\n    </tr>\n    <tr>\n      <th>203</th>\n      <td>space_E</td>\n      <td>15014</td>\n    </tr>\n    <tr>\n      <th>165</th>\n      <td>D_E</td>\n      <td>14796</td>\n    </tr>\n    <tr>\n      <th>32</th>\n      <td>[shift]T</td>\n      <td>14641</td>\n    </tr>\n    <tr>\n      <th>343</th>\n      <td>N_S</td>\n      <td>14637</td>\n    </tr>\n    <tr>\n      <th>334</th>\n      <td>I_C</td>\n      <td>14594</td>\n    </tr>\n    <tr>\n      <th>67</th>\n      <td>C_E</td>\n      <td>14234</td>\n    </tr>\n    <tr>\n      <th>328</th>\n      <td>L_Y</td>\n      <td>14132</td>\n    </tr>\n    <tr>\n      <th>173</th>\n      <td>T_A</td>\n      <td>13849</td>\n    </tr>\n    <tr>\n      <th>159</th>\n      <td>G_E</td>\n      <td>13736</td>\n    </tr>\n    <tr>\n      <th>162</th>\n      <td>I_O</td>\n      <td>13561</td>\n    </tr>\n    <tr>\n      <th>179</th>\n      <td>U_R</td>\n      <td>13463</td>\n    </tr>\n    <tr>\n      <th>316</th>\n      <td>E_L</td>\n      <td>13350</td>\n    </tr>\n    <tr>\n      <th>73</th>\n      <td>F_O</td>\n      <td>13243</td>\n    </tr>\n    <tr>\n      <th>44</th>\n      <td>U_S</td>\n      <td>13170</td>\n    </tr>\n    <tr>\n      <th>221</th>\n      <td>N_O</td>\n      <td>13154</td>\n    </tr>\n    <tr>\n      <th>281</th>\n      <td>P_E</td>\n      <td>13012</td>\n    </tr>\n    <tr>\n      <th>126</th>\n      <td>H_space</td>\n      <td>12967</td>\n    </tr>\n    <tr>\n      <th>77</th>\n      <td>S_O</td>\n      <td>12855</td>\n    </tr>\n    <tr>\n      <th>345</th>\n      <td>I_L</td>\n      <td>12843</td>\n    </tr>\n    <tr>\n      <th>502</th>\n      <td>W_E</td>\n      <td>12834</td>\n    </tr>\n    <tr>\n      <th>95</th>\n      <td>shift_T</td>\n      <td>12787</td>\n    </tr>\n    <tr>\n      <th>125</th>\n      <td>C_H</td>\n      <td>12664</td>\n    </tr>\n    <tr>\n      <th>427</th>\n      <td>C_A</td>\n      <td>12592</td>\n    </tr>\n    <tr>\n      <th>62</th>\n      <td>P_L</td>\n      <td>12091</td>\n    </tr>\n    <tr>\n      <th>413</th>\n      <td>U_L</td>\n      <td>11804</td>\n    </tr>\n    <tr>\n      <th>428</th>\n      <td>E_T</td>\n      <td>11758</td>\n    </tr>\n    <tr>\n      <th>235</th>\n      <td>W_A</td>\n      <td>11240</td>\n    </tr>\n    <tr>\n      <th>420</th>\n      <td>A_Y</td>\n      <td>11094</td>\n    </tr>\n    <tr>\n      <th>253</th>\n      <td>T_R</td>\n      <td>10941</td>\n    </tr>\n    <tr>\n      <th>341</th>\n      <td>L_D</td>\n      <td>10913</td>\n    </tr>\n    <tr>\n      <th>244</th>\n      <td>U_T</td>\n      <td>10893</td>\n    </tr>\n    <tr>\n      <th>65</th>\n      <td>L_A</td>\n      <td>10848</td>\n    </tr>\n    <tr>\n      <th>180</th>\n      <td>R_A</td>\n      <td>10834</td>\n    </tr>\n    <tr>\n      <th>119</th>\n      <td>E_C</td>\n      <td>10779</td>\n    </tr>\n    <tr>\n      <th>191</th>\n      <td>E_E</td>\n      <td>10658</td>\n    </tr>\n    <tr>\n      <th>282</th>\n      <td>I_E</td>\n      <td>10497</td>\n    </tr>\n    <tr>\n      <th>348</th>\n      <td>W_I</td>\n      <td>10278</td>\n    </tr>\n    <tr>\n      <th>94</th>\n      <td>[shift]space_shift</td>\n      <td>10184</td>\n    </tr>\n    <tr>\n      <th>166</th>\n      <td>backspace_space</td>\n      <td>9999</td>\n    </tr>\n    <tr>\n      <th>690</th>\n      <td>G_U</td>\n      <td>9948</td>\n    </tr>\n    <tr>\n      <th>337</th>\n      <td>W_H</td>\n      <td>9937</td>\n    </tr>\n    <tr>\n      <th>169</th>\n      <td>S_H</td>\n      <td>9778</td>\n    </tr>\n    <tr>\n      <th>49</th>\n      <td>A_V</td>\n      <td>9716</td>\n    </tr>\n    <tr>\n      <th>66</th>\n      <td>A_C</td>\n      <td>9682</td>\n    </tr>\n    <tr>\n      <th>229</th>\n      <td>E_backspace</td>\n      <td>9676</td>\n    </tr>\n    <tr>\n      <th>58</th>\n      <td>O_O</td>\n      <td>9649</td>\n    </tr>\n    <tr>\n      <th>600</th>\n      <td>space_space</td>\n      <td>9627</td>\n    </tr>\n    <tr>\n      <th>365</th>\n      <td>O_P</td>\n      <td>9599</td>\n    </tr>\n    <tr>\n      <th>184</th>\n      <td>R_Y</td>\n      <td>9184</td>\n    </tr>\n    <tr>\n      <th>240</th>\n      <td>O_W</td>\n      <td>9178</td>\n    </tr>\n    <tr>\n      <th>407</th>\n      <td>I_A</td>\n      <td>9077</td>\n    </tr>\n    <tr>\n      <th>648</th>\n      <td>R_R</td>\n      <td>9049</td>\n    </tr>\n    <tr>\n      <th>486</th>\n      <td>Þ</td>\n      <td>8834</td>\n    </tr>\n    <tr>\n      <th>266</th>\n      <td>L_O</td>\n      <td>8808</td>\n    </tr>\n    <tr>\n      <th>163</th>\n      <td>S_I</td>\n      <td>8669</td>\n    </tr>\n    <tr>\n      <th>454</th>\n      <td>O_L</td>\n      <td>8559</td>\n    </tr>\n    <tr>\n      <th>360</th>\n      <td>A_G</td>\n      <td>8484</td>\n    </tr>\n    <tr>\n      <th>168</th>\n      <td>D_I</td>\n      <td>8423</td>\n    </tr>\n    <tr>\n      <th>252</th>\n      <td>I_G</td>\n      <td>8340</td>\n    </tr>\n    <tr>\n      <th>204</th>\n      <td>E_V</td>\n      <td>8326</td>\n    </tr>\n    <tr>\n      <th>41</th>\n      <td>A_M</td>\n      <td>8226</td>\n    </tr>\n    <tr>\n      <th>314</th>\n      <td>G_H</td>\n      <td>8169</td>\n    </tr>\n    <tr>\n      <th>412</th>\n      <td>W_O</td>\n      <td>8046</td>\n    </tr>\n    <tr>\n      <th>189</th>\n      <td>Y_O</td>\n      <td>8008</td>\n    </tr>\n    <tr>\n      <th>42</th>\n      <td>M_O</td>\n      <td>7932</td>\n    </tr>\n    <tr>\n      <th>172</th>\n      <td>backspace_shift</td>\n      <td>7916</td>\n    </tr>\n    <tr>\n      <th>329</th>\n      <td>O_S</td>\n      <td>7866</td>\n    </tr>\n    <tr>\n      <th>577</th>\n      <td>G_A</td>\n      <td>7830</td>\n    </tr>\n    <tr>\n      <th>524</th>\n      <td>P_O</td>\n      <td>7819</td>\n    </tr>\n    <tr>\n      <th>142</th>\n      <td>K_E</td>\n      <td>7721</td>\n    </tr>\n    <tr>\n      <th>236</th>\n      <td>R_S</td>\n      <td>7706</td>\n    </tr>\n    <tr>\n      <th>145</th>\n      <td>backspace_E</td>\n      <td>7642</td>\n    </tr>\n    <tr>\n      <th>430</th>\n      <td>P_R</td>\n      <td>7526</td>\n    </tr>\n    <tr>\n      <th>170</th>\n      <td>S_dot</td>\n      <td>7455</td>\n    </tr>\n    <tr>\n      <th>284</th>\n      <td>E_dot</td>\n      <td>7451</td>\n    </tr>\n    <tr>\n      <th>262</th>\n      <td>I_M</td>\n      <td>7342</td>\n    </tr>\n    <tr>\n      <th>246</th>\n      <td>I_R</td>\n      <td>7299</td>\n    </tr>\n    <tr>\n      <th>418</th>\n      <td>M_space</td>\n      <td>7290</td>\n    </tr>\n    <tr>\n      <th>278</th>\n      <td>S_A</td>\n      <td>7241</td>\n    </tr>\n    <tr>\n      <th>382</th>\n      <td>backspace_T</td>\n      <td>7156</td>\n    </tr>\n    <tr>\n      <th>237</th>\n      <td>backspace_A</td>\n      <td>7118</td>\n    </tr>\n    <tr>\n      <th>38</th>\n      <td>X</td>\n      <td>7110</td>\n    </tr>\n    <tr>\n      <th>255</th>\n      <td>C_I</td>\n      <td>7097</td>\n    </tr>\n    <tr>\n      <th>188</th>\n      <td>space_Y</td>\n      <td>7060</td>\n    </tr>\n    <tr>\n      <th>98</th>\n      <td>E_Y</td>\n      <td>7027</td>\n    </tr>\n    <tr>\n      <th>591</th>\n      <td>F_E</td>\n      <td>6972</td>\n    </tr>\n    <tr>\n      <th>59</th>\n      <td>O_D</td>\n      <td>6796</td>\n    </tr>\n    <tr>\n      <th>195</th>\n      <td>D_O</td>\n      <td>6755</td>\n    </tr>\n    <tr>\n      <th>213</th>\n      <td>space_U</td>\n      <td>6729</td>\n    </tr>\n    <tr>\n      <th>265</th>\n      <td>T_S</td>\n      <td>6694</td>\n    </tr>\n    <tr>\n      <th>194</th>\n      <td>A_D</td>\n      <td>6671</td>\n    </tr>\n  </tbody>\n</table>\n</div>"
     },
     "metadata": {},
     "execution_count": 66
    }
   ],
   "source": [
    "_a=pd.DataFrame(list(FEATURES_COUNTER.items()), columns=['key', 'counter'])#.sort(reverse=True)\n",
    "# print(_a)\n",
    "# a1_sorted_keys = sorted(FEATURES_COUNTER, key=FEATURES_COUNTER.get, reverse=True)\n",
    "# for r in a1_sorted_keys:\n",
    "#     print(r, FEATURES_COUNTER[r])\n",
    "pd.set_option('display.max_rows', 200)\n",
    "_a.sort_values(by=['counter'], ascending=False).head(200)"
   ]
  },
  {
   "cell_type": "code",
   "execution_count": 53,
   "metadata": {},
   "outputs": [
    {
     "output_type": "error",
     "ename": "AttributeError",
     "evalue": "'dict_items' object has no attribute '__reversed__'",
     "traceback": [
      "\u001b[0;31m---------------------------------------------------------------------------\u001b[0m",
      "\u001b[0;31mAttributeError\u001b[0m                            Traceback (most recent call last)",
      "\u001b[0;32m<ipython-input-53-02d26e713156>\u001b[0m in \u001b[0;36m<module>\u001b[0;34m\u001b[0m\n\u001b[0;32m----> 1\u001b[0;31m \u001b[0msorted\u001b[0m\u001b[0;34m(\u001b[0m\u001b[0mlist\u001b[0m\u001b[0;34m(\u001b[0m\u001b[0mFEATURES_COUNTER\u001b[0m\u001b[0;34m.\u001b[0m\u001b[0mitems\u001b[0m\u001b[0;34m(\u001b[0m\u001b[0;34m)\u001b[0m\u001b[0;34m.\u001b[0m\u001b[0m__reversed__\u001b[0m\u001b[0;34m)\u001b[0m\u001b[0;34m)\u001b[0m\u001b[0;34m\u001b[0m\u001b[0;34m\u001b[0m\u001b[0m\n\u001b[0m",
      "\u001b[0;31mAttributeError\u001b[0m: 'dict_items' object has no attribute '__reversed__'"
     ]
    }
   ],
   "source": [
    "sorted(list(FEATURES_COUNTER.items()))"
   ]
  },
  {
   "cell_type": "code",
   "execution_count": 74,
   "metadata": {},
   "outputs": [
    {
     "output_type": "execute_result",
     "data": {
      "text/html": "\n<div id=\"altair-viz-9169b8924a7c437f893742d1e7f5fdbb\"></div>\n<script type=\"text/javascript\">\n  (function(spec, embedOpt){\n    const outputDiv = document.getElementById(\"altair-viz-9169b8924a7c437f893742d1e7f5fdbb\");\n    const paths = {\n      \"vega\": \"https://cdn.jsdelivr.net/npm//vega@5?noext\",\n      \"vega-lib\": \"https://cdn.jsdelivr.net/npm//vega-lib?noext\",\n      \"vega-lite\": \"https://cdn.jsdelivr.net/npm//vega-lite@4.0.2?noext\",\n      \"vega-embed\": \"https://cdn.jsdelivr.net/npm//vega-embed@6?noext\",\n    };\n\n    function loadScript(lib) {\n      return new Promise(function(resolve, reject) {\n        var s = document.createElement('script');\n        s.src = paths[lib];\n        s.async = true;\n        s.onload = () => resolve(paths[lib]);\n        s.onerror = () => reject(`Error loading script: ${paths[lib]}`);\n        document.getElementsByTagName(\"head\")[0].appendChild(s);\n      });\n    }\n\n    function showError(err) {\n      outputDiv.innerHTML = `<div class=\"error\" style=\"color:red;\">${err}</div>`;\n      throw err;\n    }\n\n    function displayChart(vegaEmbed) {\n      vegaEmbed(outputDiv, spec, embedOpt)\n        .catch(err => showError(`Javascript Error: ${err.message}<br>This usually means there's a typo in your chart specification. See the javascript console for the full traceback.`));\n    }\n\n    if(typeof define === \"function\" && define.amd) {\n      requirejs.config({paths});\n      require([\"vega-embed\"], displayChart, err => showError(`Error loading script: ${err.message}`));\n    } else if (typeof vegaEmbed === \"function\") {\n      displayChart(vegaEmbed);\n    } else {\n      loadScript(\"vega\")\n        .then(() => loadScript(\"vega-lite\"))\n        .then(() => loadScript(\"vega-embed\"))\n        .catch(showError)\n        .then(() => displayChart(vegaEmbed));\n    }\n  })({\"config\": {\"view\": {\"continuousWidth\": 400, \"continuousHeight\": 300}}, \"data\": {\"url\": \"tmp/altdata/altair-data-8f31a7b89e7cbc6279e61580590041b8.json\", \"format\": {\"type\": \"json\"}}, \"mark\": \"bar\", \"encoding\": {\"x\": {\"type\": \"quantitative\", \"field\": \"counter\"}, \"y\": {\"type\": \"ordinal\", \"field\": \"key\", \"sort\": {\"field\": \"counter\", \"order\": \"descending\"}}}, \"$schema\": \"https://vega.github.io/schema/vega-lite/v4.0.2.json\"}, {\"mode\": \"vega-lite\"});\n</script>",
      "text/plain": "alt.Chart(...)"
     },
     "metadata": {},
     "execution_count": 74
    }
   ],
   "source": [
    "alt.Chart(_a.sort_values(by=['counter'], ascending=False).head(20)).mark_bar().encode(\n",
    " x = 'counter:Q',\n",
    " y = alt.Y('key:O', sort = alt.Sort(field = 'counter', order='descending')),\n",
    ")#.transform_filter('datum.counter > 2000')"
   ]
  },
  {
   "cell_type": "code",
   "execution_count": 70,
   "metadata": {},
   "outputs": [
    {
     "output_type": "execute_result",
     "data": {
      "text/plain": "array(['space', 'E', 'T', 'A', 'O', 'backspace', 'N', 'I', 'S', 'R', 'H',\n       'backspace_backspace', 'L', 'E_space', 'D', 'space_T', 'U', 'C',\n       'space_A', 'T_H', 'S_space', 'M', 'shift', 'G', 'Y', 'T_space',\n       'F', 'H_E', 'W', 'P', 'D_space', 'A_N', 'I_N', 'R_E', 'N_space',\n       'Y_space', 'E_R', 'B', 'space_shift', 'space_I', 'space_O',\n       'space_W', 'V', 'dot', 'space_S', 'O_space', 'O_N', 'N_D', 'E_N',\n       'R_space', 'dot_space', 'A_T', 'O_U', 'T_O', 'space_C', 'I_T',\n       'space_B', 'A_R', 'E_S', 'H_A', 'I_S', 'V_E', 'comma', 'A_L',\n       'space_M', 'space_F', 'comma_space', 'R_I', 'O_R',\n       'space_backspace', 'L_E', 'S_T', 'N_T', 'N_G', 'space_P',\n       'space_H', 'S_E', 'T_I', 'A_space', 'M_E', 'space_G', 'T_E', 'E_D',\n       'F_space', 'L_space', 'E_A', 'K', 'A_S', 'B_E', 'M_A', 'L_L',\n       'G_space', '[shift]space', '[shift]I', 'space_R', 'space_D', 'U_N',\n       'O_F', 'H_O', 'H_I', 'C_O', 'shift_I', 'N_E', 'space_L', 'R_O',\n       'space_N', 'O_M', 'O_T', 'L_I', 'space_E', 'D_E', '[shift]T',\n       'N_S', 'I_C', 'C_E', 'L_Y', 'T_A', 'G_E', 'I_O', 'U_R', 'E_L',\n       'F_O', 'U_S', 'N_O', 'P_E', 'H_space', 'S_O', 'I_L', 'W_E',\n       'shift_T', 'C_H', 'C_A', 'P_L', 'U_L', 'E_T', 'W_A', 'A_Y', 'T_R',\n       'L_D', 'U_T', 'L_A', 'R_A', 'E_C', 'E_E', 'I_E', 'W_I',\n       '[shift]space_shift', 'backspace_space', 'G_U', 'W_H', 'S_H',\n       'A_V', 'A_C', 'E_backspace', 'O_O', 'space_space', 'O_P', 'R_Y',\n       'O_W', 'I_A', 'R_R', 'Þ', 'L_O', 'S_I', 'O_L', 'A_G', 'D_I', 'I_G',\n       'E_V', 'A_M', 'G_H', 'W_O', 'Y_O', 'M_O', 'backspace_shift', 'O_S',\n       'G_A', 'P_O', 'K_E', 'R_S', 'backspace_E', 'P_R', 'S_dot', 'E_dot',\n       'I_M', 'I_R', 'M_space', 'S_A', 'backspace_T', 'backspace_A', 'X',\n       'C_I', 'space_Y', 'E_Y', 'F_E', 'O_D', 'D_O', 'space_U', 'T_S',\n       'A_D'], dtype=object)"
     },
     "metadata": {},
     "execution_count": 70
    }
   ],
   "source": [
    "_a.sort_values(by=['counter'], ascending=False).head(200).key.values"
   ]
  },
  {
   "cell_type": "code",
   "execution_count": null,
   "metadata": {},
   "outputs": [],
   "source": []
  }
 ],
 "metadata": {
  "kernelspec": {
   "display_name": "Python 3",
   "language": "python",
   "name": "python3"
  },
  "language_info": {
   "codemirror_mode": {
    "name": "ipython",
    "version": 3
   },
   "file_extension": ".py",
   "mimetype": "text/x-python",
   "name": "python",
   "nbconvert_exporter": "python",
   "pygments_lexer": "ipython3",
   "version": "3.7.5-final"
  }
 },
 "nbformat": 4,
 "nbformat_minor": 2
}